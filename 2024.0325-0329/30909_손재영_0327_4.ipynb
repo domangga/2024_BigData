{
  "nbformat": 4,
  "nbformat_minor": 0,
  "metadata": {
    "colab": {
      "provenance": []
    },
    "kernelspec": {
      "name": "python3",
      "display_name": "Python 3"
    },
    "language_info": {
      "name": "python"
    }
  },
  "cells": [
    {
      "cell_type": "markdown",
      "source": [
        "# 30909_손재영_0327_4"
      ],
      "metadata": {
        "id": "mXqsW3tQ6b_d"
      }
    },
    {
      "cell_type": "code",
      "source": [
        "print(\"학생 구룹 점수의 합계와 평균을 구합니다\")\n",
        "a=int(input(\"1번학생의 점수를 입력하세요\"))\n",
        "b=int(input(\"2번학생의 점수를 입력하세요\"))\n",
        "c=int(input(\"3번학생의 점수를 입력하세요\"))\n",
        "d=int(input(\"4번학생의 점수를 입력하세요\"))\n",
        "e=int(input(\"5번학생의 점수를 입력하세요\"))\n",
        "sum=0\n",
        "sum=a+b+c+d+e\n",
        "print(f\"합계는{sum}점입니다.\")\n",
        "average=sum/5\n",
        "print(f\"평균은{average}점입니다.\")"
      ],
      "metadata": {
        "colab": {
          "base_uri": "https://localhost:8080/"
        },
        "id": "3DN8K4TQ6hkM",
        "outputId": "b62843fb-d07d-4a4f-abd2-124f37ac234c"
      },
      "execution_count": 5,
      "outputs": [
        {
          "output_type": "stream",
          "name": "stdout",
          "text": [
            "학생 구룹 점수의 합계와 평균을 구합니다\n",
            "1번학생의 점수를 입력하세요318\n",
            "2번학생의 점수를 입력하세요0\n",
            "3번학생의 점수를 입력하세요0\n",
            "4번학생의 점수를 입력하세요0\n",
            "5번학생의 점수를 입력하세요0\n",
            "합계는318점입니다.\n",
            "평균은63.6점입니다.\n"
          ]
        }
      ]
    },
    {
      "cell_type": "markdown",
      "source": [
        "- 배열 :묶음 단위로 값을 저장하는 자료구조\n",
        "  - 원소 :배열에 저장된 각객체\n",
        "  - 각 원소는 0,1,------순서대로 인덱스(주소)를 부여받음\n",
        "  - 원소의 자료형은 int형 float형 어떤것도 상관없음\n",
        "  - 서로 다른 자료형을 같이 저장할 수있음\n",
        "  - 배열 원소 자체를 배열에 저장할 수 있음"
      ],
      "metadata": {
        "id": "OuO3kR5o9g-1"
      }
    },
    {
      "cell_type": "code",
      "source": [
        "# list 선언\n",
        "list01 = [] # 빈리스트\n",
        "a= [1,2,3,4,5]\n",
        "b= [\"A\",\"B\",\"C\",]\n",
        "print(a)\n",
        "print(b)"
      ],
      "metadata": {
        "colab": {
          "base_uri": "https://localhost:8080/"
        },
        "id": "B9GueBF7-PAP",
        "outputId": "a7cb5600-a9df-4cef-e773-6485256a7094"
      },
      "execution_count": 6,
      "outputs": [
        {
          "output_type": "stream",
          "name": "stdout",
          "text": [
            "[1, 2, 3, 4, 5]\n",
            "['A', 'B', 'C']\n"
          ]
        }
      ]
    },
    {
      "cell_type": "markdown",
      "source": [
        "- 튜플\n",
        "  - 우너소에 순서를 매겨 결합한 것으로 원소를\n",
        "  변경할수 없는 자료형\n",
        "  - ()만 사용하면 반 튜플 생성\n",
        "  "
      ],
      "metadata": {
        "id": "KUlxV0j1-y02"
      }
    },
    {
      "cell_type": "code",
      "source": [
        "tuple01 = ()\n",
        "tuple02 = 1,2,3\n",
        "tuple03 = 'A','B','C'\n",
        "\n",
        "print(tuple01)\n",
        "print(tuple02)\n",
        "print(tuple03)"
      ],
      "metadata": {
        "colab": {
          "base_uri": "https://localhost:8080/"
        },
        "id": "9mvcebjh_JNF",
        "outputId": "6a87b3b2-382a-4bfa-ae84-15d9197cc5a8"
      },
      "execution_count": 7,
      "outputs": [
        {
          "output_type": "stream",
          "name": "stdout",
          "text": [
            "()\n",
            "(1, 2, 3)\n",
            "('A', 'B', 'C')\n"
          ]
        }
      ]
    },
    {
      "cell_type": "code",
      "source": [
        "a= tuple(range(3,9))\n",
        "print(a)"
      ],
      "metadata": {
        "colab": {
          "base_uri": "https://localhost:8080/"
        },
        "id": "oBsOrikW_yXE",
        "outputId": "bdc884ba-7c45-45af-d10b-90214ffc6ab3"
      },
      "execution_count": 10,
      "outputs": [
        {
          "output_type": "stream",
          "name": "stdout",
          "text": [
            "(3, 4, 5, 6, 7, 8)\n"
          ]
        }
      ]
    },
    {
      "cell_type": "code",
      "source": [],
      "metadata": {
        "id": "rBWMZBpo_3nH"
      },
      "execution_count": null,
      "outputs": []
    }
  ]
}