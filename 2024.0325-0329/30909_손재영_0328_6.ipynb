{
 "cells": [
  {
   "cell_type": "markdown",
   "id": "d77dd66c",
   "metadata": {},
   "source": [
    "# 30909_손재영_0328_6"
   ]
  },
  {
   "cell_type": "markdown",
   "id": "3920ff2f",
   "metadata": {},
   "source": [
    "본 문제는 python 의 빠른 기초 학습을 위해 설계된 문제로서 python 코드 제출을 기준으로 설명되어 있습니다. \n",
    "------\n",
    "\n",
    "입력된 세 정수 a, b, c 중 가장 작은 값을 출력하는 프로그램을 작성해보자.\n",
    "단, 3항 연산을 사용한다.\n",
    "\n",
    "참고\n",
    "프로그래밍언어 소스코드 작성시 모든 요소들은\n",
    "\"순서에 따라 한 단계씩 실행\"\n",
    "\"미리 정해진 순서에 따라 하나씩 연산 수행\"\n",
    "\"그 때까지 연산된 결과를 이용해 다시 순서에 따라 하나씩 연산\"\n",
    "...\n",
    "등의 원리가 적용된다.\n",
    "\n",
    "따라서 3항 연산을 중첩해(괄호로 묶는 등..) 이용하면 여러 값들을 순서대로 비교해 가장 큰/작은 값을 계산할 수 있다.\n",
    "\n",
    "예를 들어\n",
    "(a if a>b else b) if ((a if a>b else b)>c) else c\n",
    "와 같은 계산식은 a, b, c 의 값 중 가장 큰 값으로 계산된다.\n",
    "\n",
    "잘 이해가 되지 않는다면 어떤 순서에 따라 계산될 지 생각해보고\n",
    "여러 가지 연산자가 동시에 사용된 식이 있을 때, 어떤 우선순위에 따라 순서대로 계산이 되는지 찾아보도록 한다.\n",
    "“연산자 우선순위”를 검색하면 우선순위와 결합방향이 나온다.\n",
    "예를 들어 변수에 어떤 값을 대입하는 대입(assign) 연산자 = 의 우선순위는 가장 낮고, 오른쪽에서 왼쪽의 결합방향을 가진다.\n",
    "\n",
    "** 3항 연산은 자주 사용되지는 않지만,\n",
    "복잡한 계산식이나 조건 처리, 비교 구조를 간단히 표현할 수 있게 해준다."
   ]
  },
  {
   "cell_type": "code",
   "execution_count": 6,
   "id": "b56355b8",
   "metadata": {},
   "outputs": [
    {
     "name": "stdout",
     "output_type": "stream",
     "text": [
      "3 -1 5\n",
      "-1\n"
     ]
    }
   ],
   "source": [
    "a,b,c=input().split()\n",
    "a=int(a)\n",
    "b=int(b)\n",
    "c=int(c)\n",
    "d=(a if a<b else b) if ((a if a<b else b)<c)else c\n",
    "print(int(d))"
   ]
  },
  {
   "cell_type": "markdown",
   "id": "4fa7a250",
   "metadata": {},
   "source": [
    "본 문제는 python 의 빠른 기초 학습을 위해 설계된 문제로서 python 코드 제출을 기준으로 설명되어 있습니다. \n",
    "------\n",
    "\n",
    "3개의 정수(a, b, c)가 입력되었을 때, 짝수만 출력해보자.\n",
    "\n",
    "예시\n",
    "a, b, c = input().split()\n",
    "\n",
    "a = int(a)\n",
    "b = int(b)\n",
    "c = int(c)\n",
    "\n",
    "if a%2==0 :  #논리적으로 한 단위로 처리해야하는 경우 콜론(:)을 찍고, 들여쓰기로 작성 한다.\n",
    "  print(a)\n",
    "\n",
    "if b%2==0 :\n",
    "  print(b) \n",
    "\n",
    "if c%2==0 :\n",
    "  print(c) \n",
    "\n",
    "참고 \n",
    "if 조건식 :\n",
    "  실행1  #조건식의 평가값이 True 인 경우 실행시킬 명령을 들여쓰기를 이용해 순서대로 작성한다.\n",
    "  실행2\n",
    "실행3  #들여쓰기를 하지 않은 부분은 조건식에 상관이 없음 \n",
    "\n",
    "python 에서는 논리적 실행단위인 코드블록(code block)을 표현하기 위해 들여쓰기를 사용한다.\n",
    "들여쓰기 방법은 탭(tab), 공백(space) 4개 등 여러 가지 방법을 사용할 수 있지만\n",
    "한 소스코드 내에서 들여쓰기 길이와 방법은 똑같아야 한다.\n",
    "\n",
    "a%2==0 은 (a%2)가 먼저 계산된 후 그 결과를 정수 0과 비교한 결과값이다.\n",
    "a를 2로 나눈 나머지가 0, 즉 짝수이면 True 가 되고, 아니면 False 로 계산된다.\n",
    "따라서,\n",
    "if a%2==0 : #a가 짝수라면 ... \n",
    "와 같은 의미가 된다. 짝수가 아니라면 들여쓰기로 작성된 부분들은 실행되지 않는다."
   ]
  },
  {
   "cell_type": "code",
   "execution_count": 7,
   "id": "c206d6e1",
   "metadata": {
    "scrolled": true
   },
   "outputs": [
    {
     "name": "stdout",
     "output_type": "stream",
     "text": [
      "1 2 4\n",
      "2\n",
      "4\n"
     ]
    }
   ],
   "source": [
    "a,b,c=input().split()\n",
    "a=int(a)\n",
    "b=int(b)\n",
    "c=int(c)\n",
    "\n",
    "if a%2==0:\n",
    "    print(a)\n",
    "if b%2==0:\n",
    "    print(b)\n",
    "if c%2==0:\n",
    "    print(c)\n"
   ]
  },
  {
   "cell_type": "markdown",
   "id": "069ee879",
   "metadata": {},
   "source": [
    "본 문제는 python 의 빠른 기초 학습을 위해 설계된 문제로서 python 코드 제출을 기준으로 설명되어 있습니다. \n",
    "------\n",
    "\n",
    "3개의 정수(a, b, c)가 입력되었을 때, 짝(even)/홀(odd)을 출력해보자.\n",
    "\n",
    "예시\n",
    "...\n",
    "if a%2==0 :\n",
    "  print(\"even\")\n",
    "else :\n",
    "  print(\"odd\") \n",
    "...\n",
    "\n",
    "참고 \n",
    "if 조건식 :  #조건식을 평가해서...\n",
    "  실행1      #True 인 경우 실행시킬 명령들...\n",
    "  실행2\n",
    "else :        \n",
    "  실행3      #False 인 경우 실행시킬 명령들...\n",
    "  실행4\n",
    "실행5       #조건식과 상관없는 다음 명령\n",
    "...\n",
    "\n",
    "else 는 if 없이 혼자 사용되지 않는다.\n",
    "또한, else 다음에는 조건식이 없는 이유는? True(참)가 아니면 False(거짓)이기 때문에... \n",
    "조건식의 평가 결과는 True 아니면 False 로 계산되기 때문이다.\n",
    "\n",
    "python 에서는 들여쓰기를 기준으로 코드블록을 구분하므로, 들여쓰기를 정확하게 해주어야 한다."
   ]
  },
  {
   "cell_type": "code",
   "execution_count": 11,
   "id": "0c0d3127",
   "metadata": {},
   "outputs": [
    {
     "name": "stdout",
     "output_type": "stream",
     "text": [
      "1 2 8\n",
      "odd\n",
      "even\n",
      "even\n"
     ]
    }
   ],
   "source": [
    "a,b,c=input().split()\n",
    "a=int(a)\n",
    "b=int(b)\n",
    "c=int(c)\n",
    "\n",
    "if a%2==0:\n",
    "    print(\"even\")\n",
    "else:\n",
    "    print(\"odd\")\n",
    "if b%2==0:\n",
    "    print(\"even\")\n",
    "else:\n",
    "    print(\"odd\")\n",
    "if c%2==0:\n",
    "    print(\"even\")\n",
    "else:\n",
    "    print(\"odd\")"
   ]
  },
  {
   "cell_type": "markdown",
   "id": "854409ba",
   "metadata": {},
   "source": [
    "본 문제는 python 의 빠른 기초 학습을 위해 설계된 문제로서 python 코드 제출을 기준으로 설명되어 있습니다. \n",
    "------\n",
    "\n",
    "0이 아닌 정수 1개가 입력되었을 때, 음(-)/양(+)과 짝(even)/홀(odd)을 구분해 분류해보자.\n",
    "음수이면서 짝수이면, A\n",
    "음수이면서 홀수이면, B\n",
    "양수이면서 짝수이면, C\n",
    "양수이면서 홀수이면, D\n",
    "를 출력한다.\n",
    "\n",
    "예시\n",
    "...\n",
    "if n<0 :\n",
    "  if n%2==0 :\n",
    "    print('A')      #주의 : 변수 A와 문자열 'A' / \"A\" 는 의미가 완전히 다르다. \n",
    "  else :\n",
    "    print('B')\n",
    "else :\n",
    "  if n%2==0 :\n",
    "    print('C')\n",
    "  else :\n",
    "    print('D')\n",
    "...\n",
    "\n",
    "참고\n",
    "조건/선택 실행구조 안에 다시 조건/선택 실행구조를 \"중첩\"할 수가 있다.\n",
    "\n",
    "또한, 중첩된 조건은\n",
    "...\n",
    "if (n<0) and (n%2==0) :\n",
    "    print('A')\n",
    "...\n",
    "와 같이 논리연산자(not, and, or)를 이용해 합쳐 표현할 수도 있다.\n",
    "비교연산(<, >, <=, >=, ==, !=) 의 계산 결과는 True 또는 False 의 불(boolean) 값이고,\n",
    "불 값들 사이의 논리연산(not, and, or)의 결과도 True 또는 False 의 불 값이다."
   ]
  },
  {
   "cell_type": "code",
   "execution_count": 12,
   "id": "e6fa3285",
   "metadata": {},
   "outputs": [
    {
     "name": "stdout",
     "output_type": "stream",
     "text": [
      "-2147483648\n",
      "A\n"
     ]
    }
   ],
   "source": [
    "n=int(input())\n",
    "if n<0:\n",
    "    if n%2==0:\n",
    "        print('A')\n",
    "    else:\n",
    "        print('B')\n",
    "else:\n",
    "    if n%2==0:\n",
    "        print('C')\n",
    "    else:\n",
    "        print('D')"
   ]
  },
  {
   "cell_type": "markdown",
   "id": "163eba89",
   "metadata": {},
   "source": [
    "본 문제는 python 의 빠른 기초 학습을 위해 설계된 문제로서 python 코드 제출을 기준으로 설명되어 있습니다. \n",
    "------\n",
    "\n",
    "점수(정수, 0 ~ 100)를 입력받아 평가를 출력해보자.\n",
    "\n",
    "평가 기준\n",
    "점수 범위 : 평가\n",
    " 90 ~ 100 : A\n",
    " 70 ~   89 : B\n",
    " 40 ~   69 : C\n",
    "   0 ~   39 : D\n",
    "로 평가되어야 한다.\n",
    "\n",
    "예시\n",
    "...\n",
    "if n>=90 :\n",
    "  print('A')\n",
    "else :\n",
    "  if n>=70 :\n",
    "    print('B')\n",
    "  else :\n",
    "    if n>=40 :\n",
    "      print('C')\n",
    "    else :\n",
    "      print('D') \n",
    "...\n",
    "\n",
    "참고\n",
    "여러 조건들을 순서대로 비교하면서 처리하기 위해서 조건문을 여러 번 중첩할 수 있다.\n",
    "\n",
    "if 조건식1 :\n",
    "  ...\n",
    "else :\n",
    "  if 조건식2 :\n",
    "    ...\n",
    "  else :\n",
    "    if 조건식3 :\n",
    "      ...\n",
    "    else :\n",
    "      ...\n",
    "...\n",
    "와 같이 조건/선택 실행 구조를 겹쳐 작성하면 순서대로 조건을 검사할 수 있다.\n",
    "어떤 조건이 참이면 그 부분의 내용을 실행하고 전체 조건/선택 구조를 빠져나가게 된다.\n",
    "\n",
    "if 조건식1 : \n",
    "  ... \n",
    "elif 조건식2 : \n",
    "  ... \n",
    "elif 조건식3 : \n",
    "  ... \n",
    "else : \n",
    "  ...\n",
    "도 똑같은 기능을 한다. elif는 else if 의 짧은 약어라고 생각해도 된다.\n",
    "elif 를 사용하면 if ... else ... 구조를 겹쳐 사용할 때처럼, 여러 번 안 쪽으로 들여쓰기 하지 않아도 된다."
   ]
  },
  {
   "cell_type": "code",
   "execution_count": 13,
   "id": "d2161cd1",
   "metadata": {},
   "outputs": [
    {
     "name": "stdout",
     "output_type": "stream",
     "text": [
      "73\n",
      "B\n"
     ]
    }
   ],
   "source": [
    "n=int(input())\n",
    "if n>=90:\n",
    "    print('A')\n",
    "else:\n",
    "    if n>=70:\n",
    "        print('B')\n",
    "    else:\n",
    "        if n>=40:\n",
    "            print('C')\n",
    "        else:\n",
    "            print('D')\n",
    "            "
   ]
  },
  {
   "cell_type": "markdown",
   "id": "f8695fb4",
   "metadata": {},
   "source": [
    "본 문제는 python 의 빠른 기초 학습을 위해 설계된 문제로서 python 코드 제출을 기준으로 설명되어 있습니다. \n",
    "------\n",
    "\n",
    "평가를 문자(A, B, C, D, ...)로 입력받아 내용을 다르게 출력해보자.\n",
    "\n",
    "평가 내용\n",
    "평가 : 내용\n",
    "A : best!!!\n",
    "B : good!!\n",
    "C : run!\n",
    "D : slowly~\n",
    "나머지 문자들 : what?"
   ]
  },
  {
   "cell_type": "code",
   "execution_count": 14,
   "id": "8dc4cd5d",
   "metadata": {},
   "outputs": [
    {
     "name": "stdout",
     "output_type": "stream",
     "text": [
      "A\n",
      "best!!!\n"
     ]
    }
   ],
   "source": [
    "n=input()\n",
    "if n==\"A\":\n",
    "    print(\"best!!!\")\n",
    "elif n==\"B\":\n",
    "    print(\"good!!\")\n",
    "elif n==\"C\":\n",
    "    print(\"run!\")\n",
    "elif n==\"D\":\n",
    "    print(\"slowly~\")\n",
    "else:\n",
    "    print(\"what?\")"
   ]
  },
  {
   "cell_type": "markdown",
   "id": "bbe020b7",
   "metadata": {},
   "source": [
    "본 문제는 python 의 빠른 기초 학습을 위해 설계된 문제로서 python 코드 제출을 기준으로 설명되어 있습니다. \n",
    "------\n",
    "\n",
    "월이 입력될 때 계절 이름이 출력되도록 해보자.\n",
    "\n",
    "월 : 계절 이름\n",
    "12, 1, 2 : winter\n",
    "  3, 4, 5 : spring\n",
    "  6, 7, 8 : summer\n",
    "  9, 10, 11 : fall\n",
    "\n",
    "예시\n",
    "...\n",
    "if n//3==1 :\n",
    "  print(\"spring\")\n",
    "...\n",
    "\n",
    "참고\n",
    "때때로 수들의 특징을 관찰하고 이용하면 매우 간단히 해결할 수도 있다."
   ]
  },
  {
   "cell_type": "code",
   "execution_count": 38,
   "id": "6b22eeac",
   "metadata": {},
   "outputs": [
    {
     "name": "stdout",
     "output_type": "stream",
     "text": [
      "2\n",
      "winter\n"
     ]
    }
   ],
   "source": [
    "n=int(input())\n",
    "\n",
    "if n//3==1:\n",
    "    print(\"spring\")\n",
    "elif n//3==2:\n",
    "    print(\"summer\")    \n",
    "elif n//3==3:\n",
    "    print(\"fall\")\n",
    "else:\n",
    "    print(\"winter\")"
   ]
  },
  {
   "cell_type": "markdown",
   "id": "74588f1d",
   "metadata": {},
   "source": [
    "본 문제는 python 의 빠른 기초 학습을 위해 설계된 문제로서 python 코드 제출을 기준으로 설명되어 있습니다. \n",
    "------\n",
    "\n",
    "임의의 정수가 줄을 바꿔 계속 입력된다.\n",
    "-2147483648 ~ +2147483647, 단 개수는 알 수 없다.\n",
    "\n",
    "0이 아니면 입력된 정수를 출력하고, 0이 입력되면 출력을 중단해보자.\n",
    "\n",
    "예시\n",
    "...\n",
    "n = 1      #처음 조건 검사를 통과하기 위해 0 아닌 값을 임의로 저장\n",
    "while n!=0 :\n",
    "  n = int(input())\n",
    "  if n!=0 :\n",
    "    print(n)\n",
    "...\n",
    "\n",
    "참고\n",
    "if 조건식 :\n",
    "  ...\n",
    "  ...\n",
    "\n",
    "\n",
    "구조를 사용하면,\n",
    "주어진 조건식의 평가 결과가 True 인 경우에만, 들여쓰기로 구분된 코드블록이 실행된다.\n",
    "\n",
    "if 를 while 로 바꾸면?\n",
    "\n",
    "while 조건식 :\n",
    "  ...\n",
    "  ...\n",
    "\n",
    "와 같은 방법으로 반복해서 실행시킬 수 있다.\n",
    "\n",
    "실행되는 과정은\n",
    "1. 조건식을 평가한다.\n",
    "2. True 인 경우 코드블록을 실행한다.\n",
    "3. 다시 조건식을 평가한다.\n",
    "4. True 인 경우 코드블록을 실행한다.\n",
    "...\n",
    "... 조건식의 평가 값이 False 인 경우 반복을 중단하고, 그 다음 명령을 실행한다.\n",
    "\n",
    "조건식의 평가 결과가 True 동안만 반복 실행된다. \n",
    "\n",
    "반복실행구조 안에 다른 조건/선택실행구조를 넣을 수도 있고...\n",
    "조건/선택실행구조 안에 다른 반복실행구조를 넣을 수도 있다.\n"
   ]
  },
  {
   "cell_type": "code",
   "execution_count": 39,
   "id": "dadd2bec",
   "metadata": {},
   "outputs": [
    {
     "name": "stdout",
     "output_type": "stream",
     "text": [
      "5\n",
      "5\n",
      "6\n",
      "6\n",
      "3\n",
      "3\n",
      "7\n",
      "7\n",
      "0\n"
     ]
    }
   ],
   "source": [
    "n=1\n",
    "while n!=0:\n",
    "    n=int(input())\n",
    "    if n!=0:\n",
    "        print(n)"
   ]
  },
  {
   "cell_type": "markdown",
   "id": "1f24d101",
   "metadata": {},
   "source": [
    "본 문제는 python 의 빠른 기초 학습을 위해 설계된 문제로서 python 코드 제출을 기준으로 설명되어 있습니다. \n",
    "------\n",
    "\n",
    "정수(1 ~ 100) 1개가 입력되었을 때 카운트다운을 출력해보자.\n",
    "\n",
    "while 조건식 :\n",
    "  ...\n",
    "  ...\n",
    "반복 실행구조를 사용해 보자.\n",
    "\n",
    "예시\n",
    "...\n",
    "while n!=0 :\n",
    "  print(n)\n",
    "  n = n-1\n",
    "...\n",
    "\n",
    "참고\n",
    "n = n-1  #n에 저장되어있던 값에서 1만큼 뺀 후, 그 값을 다시 n에 저장시킨다.\n",
    "n -= 1 과 같이 짧게 작성할 수도 있다. n -= 1 은 n = n-1 과 같은 의미이다.\n",
    "이렇게 산술연산자(+, -, *, / ... )와 대입 연산자(=)를 함께 쓰는 것을 복합대입연산자라고도 부른다.\n",
    "같은 방법으로 +=, *=, /=, //=, %=, &=, |=, ^=, >>=, <<=, **= 등과 같이 짧게 작성할 수 있다.\n",
    "\n",
    "처음에 조건식을 검사하고, 그 다음에 실행하고, 그 다음에 값을 바꾸고...\n",
    "다시 조건식을 검사하고, 실행하고, 값을 바꾸고..."
   ]
  },
  {
   "cell_type": "code",
   "execution_count": 44,
   "id": "2663c5dc",
   "metadata": {},
   "outputs": [
    {
     "name": "stdout",
     "output_type": "stream",
     "text": [
      "5\n",
      "4\n",
      "3\n",
      "2\n",
      "1\n",
      "0\n"
     ]
    }
   ],
   "source": [
    "n=int(input())\n",
    "while n!=0:\n",
    "    print(n)\n",
    "    n=n-1"
   ]
  },
  {
   "cell_type": "markdown",
   "id": "54f008cc",
   "metadata": {},
   "source": [
    "본 문제는 python 의 빠른 기초 학습을 위해 설계된 문제로서 python 코드 제출을 기준으로 설명되어 있습니다. \n",
    "------\n",
    "\n",
    "정수(1 ~ 100) 1개가 입력되었을 때 카운트다운을 출력해보자.\n",
    "\n",
    "while 조건식 :\n",
    "  ...\n",
    "  ...\n",
    "\n",
    "반복 실행구조를 사용해 보자.\n",
    "\n",
    "참고\n",
    "조건검사, 출력, 감소의 순서와 타이밍을 잘 생각해보자."
   ]
  },
  {
   "cell_type": "code",
   "execution_count": null,
   "id": "70e18aba",
   "metadata": {},
   "outputs": [],
   "source": [
    "n=int(input())\n",
    "while n!=0:\n",
    "    print(n-1)\n",
    "    n=n-1"
   ]
  },
  {
   "cell_type": "markdown",
   "id": "711996ed",
   "metadata": {},
   "source": [
    "본 문제는 python 의 빠른 기초 학습을 위해 설계된 문제로서 python 코드 제출을 기준으로 설명되어 있습니다. \n",
    "------\n",
    "\n",
    "영문 소문자(a ~ z) 1개가 입력되었을 때,\n",
    "a부터 그 문자까지의 알파벳을 순서대로 출력해보자.\n",
    "\n",
    "예시\n",
    "c = ord(input())\n",
    "t = ord('a')\n",
    "while t<=c :\n",
    "  print(chr(t), end=' ')\n",
    "  t += 1\n",
    "\n",
    "참고\n",
    "알파벳 문자 a의 정수값은 ord('a')로 알아낼 수 있다.\n",
    "chr(정수값)을 이용하면 유니코드 문자로 출력할 수 있다.\n",
    "print(..., end=' ') 와 같이 작성하면 값 출력 후 공백문자 ' '를 출력한다. 즉, 마지막에 줄을 바꾸지 않고 빈칸만 띄운다.\n",
    "(end='\\n'로 작성하거나 생략하면, 값을 출력한 후 마지막(end)에 줄바꿈(newline)이 된다.)\n"
   ]
  },
  {
   "cell_type": "code",
   "execution_count": 45,
   "id": "c4aeda0e",
   "metadata": {},
   "outputs": [
    {
     "name": "stdout",
     "output_type": "stream",
     "text": [
      "f\n",
      "abcdef"
     ]
    }
   ],
   "source": [
    "c=ord(input())\n",
    "t=ord('a')\n",
    "while t<=c:\n",
    "    print(chr(t),end=' ')\n",
    "    t+=1"
   ]
  },
  {
   "cell_type": "markdown",
   "id": "bae1ce6f",
   "metadata": {},
   "source": [
    "본 문제는 python 의 빠른 기초 학습을 위해 설계된 문제로서 python 코드 제출을 기준으로 설명되어 있습니다. \n",
    "------\n",
    "\n",
    "정수(0 ~ 100) 1개를 입력받아 0부터 그 수까지 순서대로 출력해보자."
   ]
  },
  {
   "cell_type": "code",
   "execution_count": 49,
   "id": "15afb7a3",
   "metadata": {},
   "outputs": [
    {
     "name": "stdout",
     "output_type": "stream",
     "text": [
      "4\n",
      "0\n",
      "1\n",
      "2\n",
      "3\n",
      "4\n"
     ]
    }
   ],
   "source": [
    "c=int(input())\n",
    "t=int(0)\n",
    "while t<=c:\n",
    "    print(int(t))\n",
    "    t+=1"
   ]
  },
  {
   "cell_type": "code",
   "execution_count": null,
   "id": "de0cb842",
   "metadata": {},
   "outputs": [],
   "source": []
  }
 ],
 "metadata": {
  "kernelspec": {
   "display_name": "Python 3 (ipykernel)",
   "language": "python",
   "name": "python3"
  },
  "language_info": {
   "codemirror_mode": {
    "name": "ipython",
    "version": 3
   },
   "file_extension": ".py",
   "mimetype": "text/x-python",
   "name": "python",
   "nbconvert_exporter": "python",
   "pygments_lexer": "ipython3",
   "version": "3.9.7"
  }
 },
 "nbformat": 4,
 "nbformat_minor": 5
}
