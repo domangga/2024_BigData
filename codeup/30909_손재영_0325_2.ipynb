{
 "cells": [
  {
   "cell_type": "code",
   "execution_count": 2,
   "id": "0278ebf7",
   "metadata": {},
   "outputs": [
    {
     "name": "stdout",
     "output_type": "stream",
     "text": [
      "1 1\n",
      "False\n"
     ]
    }
   ],
   "source": [
    "a,b=input().split()\n",
    "c = bool(int(a))\n",
    "d = bool(int(b))\n",
    "print((c and (not d)) or ((not c) and d))"
   ]
  },
  {
   "cell_type": "code",
   "execution_count": 10,
   "id": "114fee04",
   "metadata": {},
   "outputs": [
    {
     "name": "stdout",
     "output_type": "stream",
     "text": [
      "12\n"
     ]
    }
   ],
   "source": [
    "n=int(input())\n",
    "if n//12==1 :\n",
    "  print(\"winter\")"
   ]
  },
  {
   "cell_type": "markdown",
   "id": "268a564a",
   "metadata": {},
   "source": [
    "본 문제는 python 의 빠른 기초 학습을 위해 설계된 문제로서 python 코드 제출을 기준으로 설명되어 있습니다. \n",
    "------\n",
    "\n",
    "2개의 정수값이 입력될 때,\n",
    "그 불 값(True/False) 이 서로 같을 때에만 True 를 출력하는 프로그램을 작성해보자."
   ]
  },
  {
   "cell_type": "code",
   "execution_count": 15,
   "id": "d67d5c2f",
   "metadata": {},
   "outputs": [
    {
     "name": "stdout",
     "output_type": "stream",
     "text": [
      "1 0\n",
      "False\n"
     ]
    }
   ],
   "source": [
    "a,b=input().split()\n",
    "a = bool(int(a))\n",
    "b = bool(int(b))\n",
    "print((not a and (not b)) or (a and b))"
   ]
  },
  {
   "cell_type": "markdown",
   "id": "6f66ee52",
   "metadata": {},
   "source": [
    "본 문제는 python 의 빠른 기초 학습을 위해 설계된 문제로서 python 코드 제출을 기준으로 설명되어 있습니다. \n",
    "------\n",
    "\n",
    "2개의 정수값이 입력될 때,\n",
    "그 불 값(True/False) 이 모두 False 일 때에만 True 를 출력하는 프로그램을 작성해보자."
   ]
  },
  {
   "cell_type": "code",
   "execution_count": 17,
   "id": "d9c07ec9",
   "metadata": {},
   "outputs": [
    {
     "name": "stdout",
     "output_type": "stream",
     "text": [
      "1 1\n",
      "False\n"
     ]
    }
   ],
   "source": [
    "a,b=input().split()\n",
    "a = bool(int(a))\n",
    "b = bool(int(b))\n",
    "print((not a and (not b)))"
   ]
  },
  {
   "cell_type": "markdown",
   "id": "9ab9d543",
   "metadata": {},
   "source": [
    "본 문제는 python 의 빠른 기초 학습을 위해 설계된 문제로서 python 코드 제출을 기준으로 설명되어 있습니다. \n",
    "------\n",
    "\n",
    "입력 된 정수를 비트단위로 참/거짓을 바꾼 후 정수로 출력해보자.\n",
    "비트단위(bitwise)연산자 ~ 를 붙이면 된다.(~ : tilde, 틸드라고 읽는다.)\n",
    "\n",
    "** 비트단위(bitwise) 연산자는,\n",
    "~(bitwise not), &(bitwise and), |(bitwise or), ^(bitwise xor),\n",
    "<<(bitwise left shift), >>(bitwise right shift)\n",
    "가 있다.\n",
    "\n",
    "예를 들어 1이 입력되었을 때 저장되는 1을 32비트 2진수로 표현하면\n",
    "        00000000 00000000 00000000 00000001 이고,\n",
    "~1은 11111111 11111111 11111111 11111110 가 되는데 이는 -2를 의미한다.\n",
    "\n",
    "예시\n",
    "a = 1\n",
    "print(~a) #-2가 출력된다.\n",
    "\n",
    "참고\n",
    "컴퓨터에 저장되는 모든 데이터들은 2진수 형태로 바뀌어 저장된다.\n",
    "0과 1로만 구성되는 비트단위들로 변환되어 저장되는데,\n",
    "양의 정수는 2진수 형태로 바뀌어 저장되고, 음의 정수는 \"2의 보수 표현\"방법으로 저장된다.\n",
    "\n",
    "양의 정수 5를 32비트로 저장하면, \n",
    "\n",
    "5의 2진수 형태인 101이 32비트로 만들어져\n",
    "00000000 00000000 00000000 00000101\n",
    "로 저장된다.(공백은 보기 편하도록 임의로 분리)\n",
    "\n",
    "32비트 형의 정수 0은\n",
    "00000000 00000000 00000000 00000000\n",
    "\n",
    "그리고 -1은 0에서 1을 더 빼고 32비트만 표시하는 형태로\n",
    "11111111 11111111 11111111 11111111 로 저장된다.\n",
    "\n",
    "-2는 -1에서 1을 더 빼면 된다.\n",
    "11111111 11111111 11111111 11111110 로 저장된다.\n",
    "\n",
    "이러한 내용을 간단히 표현하면, 정수 n이라고 할 때,\n",
    "\n",
    "~n = -n - 1\n",
    "-n = ~n + 1 과 같은 관계로 표현할 수 있다.\n",
    "\n",
    "이 관계를 그림으로 그려보면 마치 원형으로 수들이 상대적으로 배치된 것과 같다."
   ]
  },
  {
   "cell_type": "code",
   "execution_count": 28,
   "id": "3098cc30",
   "metadata": {},
   "outputs": [
    {
     "name": "stdout",
     "output_type": "stream",
     "text": [
      "2\n",
      "-3\n"
     ]
    }
   ],
   "source": [
    "a=int(input())\n",
    "print(~a)"
   ]
  },
  {
   "cell_type": "markdown",
   "id": "b8bf4894",
   "metadata": {},
   "source": [
    "본 문제는 python 의 빠른 기초 학습을 위해 설계된 문제로서 python 코드 제출을 기준으로 설명되어 있습니다. \n",
    "------\n",
    "\n",
    "입력된 정수 두 개를 비트단위로 and 연산한 후 그 결과를 정수로 출력해보자.\n",
    "비트단위(bitwise)연산자 &를 사용하면 된다.(and, ampersand, 앰퍼센드라고 읽는다.)\n",
    "\n",
    "** 비트단위(bitwise)연산자는,\n",
    "~(bitwise not), &(bitwise and), |(bitwise or), ^(bitwise xor),\n",
    "<<(bitwise left shift), >>(bitwise right shift)\n",
    "가 있다.\n",
    "\n",
    "예를 들어 3과 5가 입력되었을 때를 살펴보면\n",
    "3       : 00000000 00000000 00000000 00000011\n",
    "5       : 00000000 00000000 00000000 00000101\n",
    "3 & 5 : 00000000 00000000 00000000 00000001\n",
    "이 된다.\n",
    "\n",
    "비트단위 and 연산은 두 비트열이 주어졌을 때,\n",
    "둘 다 1인 부분의 자리만 1로 만들어주는 것과 같다.\n",
    "\n",
    "이 연산을 이용하면 어떤 비트열의 특정 부분만 모두 0으로도 만들 수 있는데\n",
    "192.168.0.31   : 11000000.10101000.00000000.00011111\n",
    "255.255.255.0 : 11111111.11111111.11111111.00000000\n",
    "\n",
    "두 개의 ip 주소를 & 연산하면\n",
    "192.168.0.0 :     110000000.10101000.0000000.00000000 을 계산할 수 있다.\n",
    "\n",
    "실제로 이 계산은 네트워크에 연결되어 있는 두 개의 컴퓨터가 데이터를 주고받기 위해\n",
    "같은 네트워크에 있는지 아닌지를 판단하는데 사용된다.\n",
    "\n",
    "이러한 비트단위 연산은 빠른 계산이 필요한 그래픽처리에서\n",
    "마스크연산(특정 부분을 가리고 출력하는)을 수행하는 데에도 효과적으로 사용된다."
   ]
  },
  {
   "cell_type": "code",
   "execution_count": 44,
   "id": "cede92aa",
   "metadata": {},
   "outputs": [
    {
     "name": "stdout",
     "output_type": "stream",
     "text": [
      "3 5\n",
      "1\n"
     ]
    }
   ],
   "source": [
    "a,b=input().split()\n",
    "print(int(a) & int(b))"
   ]
  },
  {
   "cell_type": "markdown",
   "id": "818077ef",
   "metadata": {},
   "source": [
    "본 문제는 python 의 빠른 기초 학습을 위해 설계된 문제로서 python 코드 제출을 기준으로 설명되어 있습니다. \n",
    "------\n",
    "\n",
    "입력된 정수 두 개를 비트단위로 or 연산한 후 그 결과를 정수로 출력해보자.\n",
    "비트단위(bitwise) 연산자 |(or, vertical bar, 버티컬바)를 사용하면 된다.\n",
    "\n",
    "** | 은 파이프(pipe)연산자라고도 불리는 경우가 있다.\n",
    "\n",
    "** 비트단위(bitwise) 연산자는,\n",
    "~(bitwise not), &(bitwise and), |(bitwise or), ^(bitwise xor),\n",
    "<<(bitwise left shift), >>(bitwise right shift)\n",
    "가 있다.\n",
    "\n",
    "예를 들어 3과 5가 입력되었을 때를 살펴보면\n",
    "3      : 00000000 00000000 00000000 00000011\n",
    "5      : 00000000 00000000 00000000 00000101\n",
    "3 | 5 : 00000000 00000000 00000000 00000111\n",
    "이 된다.\n",
    "\n",
    "비트단위 or 연산은 둘 중 하나라도 1인 자리를 1로 만들어주는 것과 같다.\n",
    "\n",
    "이러한 비트단위 연산은 빠른 계산이 필요한 그래픽처리에서도 효과적으로 사용된다."
   ]
  },
  {
   "cell_type": "code",
   "execution_count": 45,
   "id": "21ea6f8a",
   "metadata": {},
   "outputs": [
    {
     "name": "stdout",
     "output_type": "stream",
     "text": [
      "3 5\n",
      "7\n"
     ]
    }
   ],
   "source": [
    "a,b=input().split()\n",
    "print(int(a) | int(b))"
   ]
  },
  {
   "cell_type": "markdown",
   "id": "0e0b63da",
   "metadata": {},
   "source": [
    "본 문제는 python 의 빠른 기초 학습을 위해 설계된 문제로서 python 코드 제출을 기준으로 설명되어 있습니다. \n",
    "------\n",
    "\n",
    "입력된 정수 두 개를 비트단위로 xor 연산한 후 그 결과를 정수로 출력해보자.\n",
    "비트단위(bitwise) 연산자 ^(xor, circumflex/caret, 서컴플렉스/카릿)를 사용하면 된다.\n",
    "\n",
    "** 주의 ^은 수학식에서 거듭제곱(power)을 나타내는 기호와 모양은 같지만,\n",
    "C언어에서는 전혀 다른 배타적 논리합(xor, 서로 다를 때 1)의 의미를 가진다.\n",
    "\n",
    "** 비트단위(bitwise) 연산자는,\n",
    "~(bitwise not), &(bitwise and), |(bitwise or), ^(bitwise xor),\n",
    "<<(bitwise left shift), >>(bitwise right shift)\n",
    "가 있다.\n",
    "\n",
    "예를 들어 3과 5가 입력되었을 때를 살펴보면\n",
    "3       : 00000000 00000000 00000000 00000011\n",
    "5       : 00000000 00000000 00000000 00000101\n",
    "3 ^ 5 : 00000000 00000000 00000000 00000110\n",
    "이 된다.\n",
    "이러한 비트단위 연산은 빠른 계산이 필요한 그래픽처리에서도 효과적으로 사용된다.\n",
    "\n",
    "구체적으로 설명하자면,\n",
    "두 장의 이미지가 겹쳐졌을 때 색이 서로 다른 부분만 처리할 수 있다.\n",
    "배경이 되는 그림과 배경 위에서 움직이는 그림이 있을 때,\n",
    "두 그림에서 차이만 골라내 배경 위에서 움직이는 그림의 색으로 바꿔주면\n",
    "전체 그림을 구성하는 모든 점들의 색을 다시 계산해 입히지 않고\n",
    "보다 효과적으로 그림을 처리할 수 있게 되는 것이다.\n",
    "비행기 슈팅게임 등을 상상해보면 된다."
   ]
  },
  {
   "cell_type": "code",
   "execution_count": 46,
   "id": "a5e82d8d",
   "metadata": {},
   "outputs": [
    {
     "name": "stdout",
     "output_type": "stream",
     "text": [
      "3 5\n",
      "6\n"
     ]
    }
   ],
   "source": [
    "a,b=input().split()\n",
    "print(int(a) ^ int(b))"
   ]
  },
  {
   "cell_type": "markdown",
   "id": "7399f385",
   "metadata": {},
   "source": [
    "본 문제는 python 의 빠른 기초 학습을 위해 설계된 문제로서 python 코드 제출을 기준으로 설명되어 있습니다. \n",
    "------\n",
    "\n",
    "입력된 두 정수(a, b) 중 큰 값을 출력하는 프로그램을 작성해보자.\n",
    "단, 3항 연산을 사용한다.\n",
    "\n",
    "예시\n",
    "a, b = input().split()\n",
    "a = int(a)  #변수 a에 저장되어있는 값을 정수로 바꾸어 다시 변수 a에 저장\n",
    "b = int(b)\n",
    "c = (a if (a>=b) else b)\n",
    "print(int(c))\n",
    "\n",
    "참고\n",
    "3개의 요소로 이루어지는 3항 연산은\n",
    "\"x if C else y\" 의 형태로 작성이 된다.\n",
    "- C : True 또는 False 를 평가할 조건식(conditional expression) 또는 값\n",
    "- x : C의 평가 결과가 True 일 때 사용할 값\n",
    "- y : C의 평가 결과가 True 가 아닐 때 사용할 값\n",
    "\n",
    "조건식 또는 값이 True 이면 x 값이 사용되고, True가 아니면 y 값이 사용되도록 하는 코드이다.\n",
    "\n",
    "예를 들어\n",
    "0 if 123>456 else 1\n",
    "과 같은 표현식의 평가값은 123 > 456 의 비교연산 결과가 False 이므로 1이 된다.\n",
    "\n",
    "예시 코드에서\n",
    "a>=b 의 결과가 True(참) 이면 (a if (a>=b) else b)의 결과는 a가 되고,\n",
    "a>=b 의 결과가 False(거짓)이면 (a if (a>=b) else b)의 결과는 b가 된다."
   ]
  },
  {
   "cell_type": "code",
   "execution_count": 47,
   "id": "fb5ae223",
   "metadata": {},
   "outputs": [
    {
     "name": "stdout",
     "output_type": "stream",
     "text": [
      "123 456\n",
      "456\n"
     ]
    }
   ],
   "source": [
    "a,b = input().split()\n",
    "a= int(a)\n",
    "b=int(b)\n",
    "c=(a if (a>=b) else b)\n",
    "print(int(c))"
   ]
  },
  {
   "cell_type": "markdown",
   "id": "8c61ecae",
   "metadata": {},
   "source": [
    "본 문제는 python 의 빠른 기초 학습을 위해 설계된 문제로서 python 코드 제출을 기준으로 설명되어 있습니다. \n",
    "------\n",
    "\n",
    "입력된 세 정수 a, b, c 중 가장 작은 값을 출력하는 프로그램을 작성해보자.\n",
    "단, 3항 연산을 사용한다.\n",
    "\n",
    "참고\n",
    "프로그래밍언어 소스코드 작성시 모든 요소들은\n",
    "\"순서에 따라 한 단계씩 실행\"\n",
    "\"미리 정해진 순서에 따라 하나씩 연산 수행\"\n",
    "\"그 때까지 연산된 결과를 이용해 다시 순서에 따라 하나씩 연산\"\n",
    "...\n",
    "등의 원리가 적용된다.\n",
    "\n",
    "따라서 3항 연산을 중첩해(괄호로 묶는 등..) 이용하면 여러 값들을 순서대로 비교해 가장 큰/작은 값을 계산할 수 있다.\n",
    "\n",
    "예를 들어\n",
    "(a if a>b else b) if ((a if a>b else b)>c) else c\n",
    "와 같은 계산식은 a, b, c 의 값 중 가장 큰 값으로 계산된다.\n",
    "\n",
    "잘 이해가 되지 않는다면 어떤 순서에 따라 계산될 지 생각해보고\n",
    "여러 가지 연산자가 동시에 사용된 식이 있을 때, 어떤 우선순위에 따라 순서대로 계산이 되는지 찾아보도록 한다.\n",
    "“연산자 우선순위”를 검색하면 우선순위와 결합방향이 나온다.\n",
    "예를 들어 변수에 어떤 값을 대입하는 대입(assign) 연산자 = 의 우선순위는 가장 낮고, 오른쪽에서 왼쪽의 결합방향을 가진다.\n",
    "\n",
    "** 3항 연산은 자주 사용되지는 않지만,\n",
    "복잡한 계산식이나 조건 처리, 비교 구조를 간단히 표현할 수 있게 해준다."
   ]
  },
  {
   "cell_type": "code",
   "execution_count": 48,
   "id": "7e5906d2",
   "metadata": {},
   "outputs": [
    {
     "name": "stdout",
     "output_type": "stream",
     "text": [
      "31\n"
     ]
    },
    {
     "ename": "ValueError",
     "evalue": "not enough values to unpack (expected 3, got 1)",
     "output_type": "error",
     "traceback": [
      "\u001b[1;31m---------------------------------------------------------------------------\u001b[0m",
      "\u001b[1;31mValueError\u001b[0m                                Traceback (most recent call last)",
      "\u001b[1;32m~\\AppData\\Local\\Temp/ipykernel_1080/1358248633.py\u001b[0m in \u001b[0;36m<module>\u001b[1;34m\u001b[0m\n\u001b[1;32m----> 1\u001b[1;33m \u001b[0ma\u001b[0m\u001b[1;33m,\u001b[0m\u001b[0mb\u001b[0m\u001b[1;33m,\u001b[0m\u001b[0mc\u001b[0m\u001b[1;33m=\u001b[0m\u001b[0minput\u001b[0m\u001b[1;33m(\u001b[0m\u001b[1;33m)\u001b[0m\u001b[1;33m.\u001b[0m\u001b[0msplit\u001b[0m\u001b[1;33m(\u001b[0m\u001b[1;33m)\u001b[0m\u001b[1;33m\u001b[0m\u001b[1;33m\u001b[0m\u001b[0m\n\u001b[0m",
      "\u001b[1;31mValueError\u001b[0m: not enough values to unpack (expected 3, got 1)"
     ]
    }
   ],
   "source": [
    "a,b,c=input().split()\n",
    "a=int(a)\n",
    "b=int(b)\n",
    "c=int(c)\n",
    "d=()"
   ]
  }
 ],
 "metadata": {
  "kernelspec": {
   "display_name": "Python 3 (ipykernel)",
   "language": "python",
   "name": "python3"
  },
  "language_info": {
   "codemirror_mode": {
    "name": "ipython",
    "version": 3
   },
   "file_extension": ".py",
   "mimetype": "text/x-python",
   "name": "python",
   "nbconvert_exporter": "python",
   "pygments_lexer": "ipython3",
   "version": "3.9.7"
  }
 },
 "nbformat": 4,
 "nbformat_minor": 5
}
