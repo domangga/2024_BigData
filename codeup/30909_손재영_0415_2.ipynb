{
 "cells": [
  {
   "cell_type": "markdown",
   "id": "841625b8",
   "metadata": {},
   "source": [
    "본 문제는 python 의 빠른 기초 학습을 위해 설계된 문제로서 python 코드 제출을 기준으로 설명되어 있습니다. \n",
    "------\n",
    "\n",
    "어떤 규칙에 따라 수를 순서대로 나열한 것을 수열(sequences)이라고 한다.\n",
    "\n",
    "예를 들어\n",
    "2 6 18 54 162 486 ... 은\n",
    "2부터 시작해 이전에 만든 수에 3을 곱해 다음 수를 만든 수열이다.\n",
    "\n",
    "이러한 것을 수학에서는 앞뒤 수들의 비율이 같다고 하여\n",
    "등비(비율이 같다의 한문 말) 수열이라고 한다. (등비수열 : geometric progression/sequence)\n",
    "\n",
    "등비 수열을 알게된 영일이는 갑자기 궁금해졌다.\n",
    "\"그럼.... 13번째 나오는 수는 뭘까?\"\n",
    "영일이는 프로그램을 만들어 더 큰 수도 자동으로 계산하고 싶어졌다.\n",
    "\n",
    "시작 값(a), 등비(r), 몇 번째인지를 나타내는 정수(n)가 입력될 때\n",
    "n번째 수를 출력하는 프로그램을 만들어보자."
   ]
  },
  {
   "cell_type": "code",
   "execution_count": 25,
   "id": "bd08d46c",
   "metadata": {
    "scrolled": true
   },
   "outputs": [
    {
     "name": "stdout",
     "output_type": "stream",
     "text": [
      "2 3 7\n",
      "1458\n"
     ]
    }
   ],
   "source": [
    "a,r,n=input().split()\n",
    "a=int(a)\n",
    "r=int(r)\n",
    "n=int(n)\n",
    "\n",
    "\n",
    "for i in range(1,n):\n",
    "    pp = a*r**i\n",
    "    \n",
    "print(pp)"
   ]
  },
  {
   "cell_type": "code",
   "execution_count": 29,
   "id": "96c4ddfd",
   "metadata": {},
   "outputs": [
    {
     "name": "stdout",
     "output_type": "stream",
     "text": [
      "1 -2 1 8\n",
      "-1\n"
     ]
    }
   ],
   "source": [
    "a,m,d,n=map(int,input().split())\n",
    "\n",
    "\n",
    "for i in range(n):\n",
    "    a*m+d"
   ]
  },
  {
   "cell_type": "code",
   "execution_count": 45,
   "id": "ad2d1eda",
   "metadata": {},
   "outputs": [
    {
     "name": "stdout",
     "output_type": "stream",
     "text": [
      "1 -2 8\n",
      "-1\n"
     ]
    }
   ],
   "source": [
    "a,r,n=input().split()\n",
    "a=int(a)\n",
    "r=int(r)\n",
    "n=int(n)\n",
    "\n",
    "\n",
    "for i in range(1,n):\n",
    "    pp = a*r**i\n",
    "    \n",
    "print(pp)"
   ]
  }
 ],
 "metadata": {
  "kernelspec": {
   "display_name": "Python 3 (ipykernel)",
   "language": "python",
   "name": "python3"
  },
  "language_info": {
   "codemirror_mode": {
    "name": "ipython",
    "version": 3
   },
   "file_extension": ".py",
   "mimetype": "text/x-python",
   "name": "python",
   "nbconvert_exporter": "python",
   "pygments_lexer": "ipython3",
   "version": "3.9.7"
  }
 },
 "nbformat": 4,
 "nbformat_minor": 5
}
