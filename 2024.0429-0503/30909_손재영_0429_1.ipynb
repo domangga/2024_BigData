{
 "cells": [
  {
   "cell_type": "markdown",
   "id": "b526db7a",
   "metadata": {},
   "source": [
    "# 30909_손재영_0429_1"
   ]
  },
  {
   "cell_type": "code",
   "execution_count": 1,
   "id": "98c7130b",
   "metadata": {},
   "outputs": [],
   "source": [
    "spending=[25,36,8,53,24,56]"
   ]
  },
  {
   "cell_type": "code",
   "execution_count": 2,
   "id": "b77850ba",
   "metadata": {},
   "outputs": [
    {
     "data": {
      "text/plain": [
       "[25, 36, 8, 53, 24, 56]"
      ]
     },
     "execution_count": 2,
     "metadata": {},
     "output_type": "execute_result"
    }
   ],
   "source": [
    "spending"
   ]
  },
  {
   "cell_type": "code",
   "execution_count": 4,
   "id": "4a351f5d",
   "metadata": {},
   "outputs": [
    {
     "name": "stdout",
     "output_type": "stream",
     "text": [
      "<class 'list'> [25, 36, 8, 53, 24, 56, 38, 79, 94, 20, 40, 25]\n",
      "<class 'list'> [25, 36, 8, 53, 24, 56]\n"
     ]
    }
   ],
   "source": [
    "spending_year=[25,36,8,53,24,56,38,79,94,20,40,25]\n",
    "print(type(spending_year),spending_year)\n",
    "\n",
    "spending_6mon =[25,36,8,53,24,56]\n",
    "print(type(spending_6mon),spending_6mon)"
   ]
  },
  {
   "cell_type": "code",
   "execution_count": 15,
   "id": "4fc7d909",
   "metadata": {},
   "outputs": [
    {
     "name": "stdout",
     "output_type": "stream",
     "text": [
      "좋아하는 음식 개수 : 6\n",
      "좋아하는 음식 순위 : ['피자', '치킨', '떡볶이', '스테이크', '딸기', '파스타']\n",
      "가장 좋아하는 음식 : 피자\n",
      "가장 싫어하는 음식 : 파스타\n",
      "피자\n",
      "치킨\n",
      "떡볶이\n",
      "스테이크\n",
      "딸기\n",
      "파스타\n"
     ]
    }
   ],
   "source": [
    "food=['피자','치킨','떡볶이','스테이크','딸기','파스타']\n",
    "print('좋아하는 음식 개수 :',len(food)) #개수 len\n",
    "print('좋아하는 음식 순위 :',food)\n",
    "print('가장 좋아하는 음식 :',food[0])\n",
    "print('가장 싫어하는 음식 :',food[-1])\n",
    "for i in food:\n",
    "    print(i)"
   ]
  },
  {
   "cell_type": "code",
   "execution_count": null,
   "id": "0be8e3e8",
   "metadata": {},
   "outputs": [],
   "source": []
  },
  {
   "cell_type": "code",
   "execution_count": 24,
   "id": "0f0140f0",
   "metadata": {
    "scrolled": true
   },
   "outputs": [
    {
     "name": "stdout",
     "output_type": "stream",
     "text": [
      "좋아하는 음식의 순위별로 출력하세요\n",
      "1등은 피자\n",
      "2등은 치킨\n",
      "3등은 떡볶이\n",
      "4등은 스테이크\n",
      "5등은 딸기\n",
      "6등은 파스타\n",
      "7등은 라면\n"
     ]
    }
   ],
   "source": [
    "food=['피자','치킨','떡볶이','스테이크','딸기','파스타','라면']\n",
    "print('좋아하는 음식의 순위별로 출력하세요')\n",
    "for i in range(len(food)):\n",
    "    print(f'{i+1}등은',food[i])"
   ]
  },
  {
   "cell_type": "code",
   "execution_count": 25,
   "id": "2a3d2088",
   "metadata": {},
   "outputs": [
    {
     "data": {
      "text/plain": [
       "['피자', '치킨', '떡볶이', '스테이크', '딸기', '파스타', '라면', '감자칩']"
      ]
     },
     "execution_count": 25,
     "metadata": {},
     "output_type": "execute_result"
    }
   ],
   "source": [
    "# food 에 감자칩을 추가해주면 \n",
    "food.append('감자칩')\n",
    "food"
   ]
  },
  {
   "cell_type": "markdown",
   "id": "b162c59a",
   "metadata": {},
   "source": [
    "```\n",
    "해야할 일을 차례대로 입력해주새요.\n",
    "생일선물 사기\n",
    "인강 듣기\n",
    "파이썬 공부하기\n",
    "책읽기\n",
    "영단어 외우기\n",
    "```"
   ]
  },
  {
   "cell_type": "code",
   "execution_count": 27,
   "id": "156f91ec",
   "metadata": {},
   "outputs": [
    {
     "name": "stdout",
     "output_type": "stream",
     "text": [
      "해야할 일을 차차례대로 입력해 주세요\n",
      "z\n",
      "z\n",
      "z\n",
      "z\n",
      "z\n",
      "['z', 'z', 'z', 'z', 'z']\n"
     ]
    }
   ],
   "source": [
    "to_do=[]\n",
    "print('해야할 일을 차차례대로 입력해 주세요')\n",
    "\n",
    "for i in range(5) :\n",
    "    to_do.append(input())\n",
    "    \n",
    "print(to_do)"
   ]
  },
  {
   "cell_type": "code",
   "execution_count": null,
   "id": "74c579d2",
   "metadata": {},
   "outputs": [],
   "source": [
    "to_do.remove('선물사기')\n",
    "print(to_do)"
   ]
  },
  {
   "cell_type": "code",
   "execution_count": 33,
   "id": "8c135420",
   "metadata": {},
   "outputs": [
    {
     "name": "stdout",
     "output_type": "stream",
     "text": [
      "연도 : 2024\n",
      "월 : 04\n",
      "일 : 29\n"
     ]
    }
   ],
   "source": [
    "date='2024-04-29'\n",
    "\n",
    "# 연도\n",
    "# 월 \n",
    "# 일\n",
    "# 출력하려면\n",
    "print('연도 :',date[0:4])\n",
    "print('월 :',date[5:7])\n",
    "print('일 :',date[8:10])\n"
   ]
  }
 ],
 "metadata": {
  "kernelspec": {
   "display_name": "Python 3 (ipykernel)",
   "language": "python",
   "name": "python3"
  },
  "language_info": {
   "codemirror_mode": {
    "name": "ipython",
    "version": 3
   },
   "file_extension": ".py",
   "mimetype": "text/x-python",
   "name": "python",
   "nbconvert_exporter": "python",
   "pygments_lexer": "ipython3",
   "version": "3.9.7"
  }
 },
 "nbformat": 4,
 "nbformat_minor": 5
}
