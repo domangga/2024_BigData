{
 "cells": [
  {
   "cell_type": "markdown",
   "metadata": {},
   "source": [
    "perceptron(퍼셉트론)\n",
    ": 뉴련의 신호 메커니즘을 본떠 만든 수학적 모델\n",
    "\n",
    "파겝트론의 특징\n",
    ":다수의 신호를입력 받아서 하나의 신호만 출력한다.\n",
    "\n",
    "신호 : 강물이나 전류 처럼 흐르는것.\n",
    "전류가 프르거나 안흐른다. (0과1만 있음):\n",
    "2진수,컴퓨터\n",
    "\n",
    "원 : 뉴런\n",
    "\n",
    "x1,x2=입력값\n",
    "w1,w2= 가중치 : 노드의 중요도를 나탄내는 값\n",
    "평향 : 노드의 만감도를 조전한다, 가중치 만으로 세밀하게 조절하지 못할떄 사용\n",
    "\n",
    "\n",
    "입력값이 들어오면 입력값에 가중티가곱해진후 두 입력값을 더해서 특정 임계깂을 넘어서면 1넘지 못하면 0\n",
    "\n",
    "x=[x1,x2]\n",
    "w=[w1,w2]\n",
    "\n",
    "x[0]*w[0]+x[1]*w[1]=y\n",
    "\n",
    "AND \n",
    "0 0 : 0\n",
    "1 0 : 0\n",
    "0 1 : 0\n",
    "1 1 : 1\n",
    "\n",
    "\n",
    "입력값 : 입력되는 값\n",
    "가중치 : 노드의 주용도를 표현한 값\n",
    "편향 노드의 민감도를 조절할 떄 사용, 가중치만으로 세밀하게 조절하지 못할때 사용\n",
    "임계값 : 이 값을 넘어야 신호사 흐르고 그렇지 못하면 흐르지 않는다"
   ]
  },
  {
   "cell_type": "code",
   "execution_count": 20,
   "metadata": {},
   "outputs": [],
   "source": [
    "def AND(x1,x2):\n",
    "    w1,w2,theta= 0.5,0.5,0.7\n",
    "    temp = x1*w1+x2*w2\n",
    "    if temp <= theta:\n",
    "        return 0 \n",
    "    elif temp > theta:\n",
    "        return 1"
   ]
  },
  {
   "cell_type": "code",
   "execution_count": 21,
   "metadata": {},
   "outputs": [
    {
     "name": "stdout",
     "output_type": "stream",
     "text": [
      "0\n",
      "0\n",
      "0\n",
      "1\n"
     ]
    }
   ],
   "source": [
    "print(AND(0,0))\n",
    "print(AND(0,1))\n",
    "print(AND(1,0))\n",
    "print(AND(1,1))\n",
    "\n"
   ]
  },
  {
   "cell_type": "code",
   "execution_count": 4,
   "metadata": {},
   "outputs": [
    {
     "ename": "ModuleNotFoundError",
     "evalue": "No module named 'numpys'",
     "output_type": "error",
     "traceback": [
      "\u001b[1;31m---------------------------------------------------------------------------\u001b[0m",
      "\u001b[1;31mModuleNotFoundError\u001b[0m                       Traceback (most recent call last)",
      "Cell \u001b[1;32mIn[4], line 1\u001b[0m\n\u001b[1;32m----> 1\u001b[0m \u001b[38;5;28;01mimport\u001b[39;00m \u001b[38;5;21;01mnumpys\u001b[39;00m \u001b[38;5;28;01mas\u001b[39;00m \u001b[38;5;21;01mnp\u001b[39;00m\n",
      "\u001b[1;31mModuleNotFoundError\u001b[0m: No module named 'numpys'"
     ]
    }
   ],
   "source": [
    "import numpy as np"
   ]
  },
  {
   "cell_type": "code",
   "execution_count": 2,
   "metadata": {},
   "outputs": [
    {
     "ename": "NameError",
     "evalue": "name 'np' is not defined",
     "output_type": "error",
     "traceback": [
      "\u001b[1;31m---------------------------------------------------------------------------\u001b[0m",
      "\u001b[1;31mNameError\u001b[0m                                 Traceback (most recent call last)",
      "Cell \u001b[1;32mIn[2], line 1\u001b[0m\n\u001b[1;32m----> 1\u001b[0m x\u001b[38;5;241m=\u001b[39m\u001b[43mnp\u001b[49m\u001b[38;5;241m.\u001b[39marray([\u001b[38;5;241m0\u001b[39m,\u001b[38;5;241m1\u001b[39m])\n\u001b[0;32m      2\u001b[0m w\u001b[38;5;241m=\u001b[39mnp\u001b[38;5;241m.\u001b[39marray([\u001b[38;5;241m0.5\u001b[39m,\u001b[38;5;241m0.5\u001b[39m])\n\u001b[0;32m      3\u001b[0m b\u001b[38;5;241m=\u001b[39m\u001b[38;5;241m-\u001b[39m\u001b[38;5;241m0.7\u001b[39m\n",
      "\u001b[1;31mNameError\u001b[0m: name 'np' is not defined"
     ]
    }
   ],
   "source": [
    "x=np.array([0,1])\n",
    "w=np.array([0.5,0.5])\n",
    "b=-0.7"
   ]
  },
  {
   "cell_type": "code",
   "execution_count": 26,
   "metadata": {},
   "outputs": [
    {
     "ename": "NameError",
     "evalue": "name 'np' is not defined",
     "output_type": "error",
     "traceback": [
      "\u001b[1;31m---------------------------------------------------------------------------\u001b[0m",
      "\u001b[1;31mNameError\u001b[0m                                 Traceback (most recent call last)",
      "Cell \u001b[1;32mIn[26], line 1\u001b[0m\n\u001b[1;32m----> 1\u001b[0m \u001b[38;5;28mprint\u001b[39m(\u001b[43mnp\u001b[49m\u001b[38;5;241m.\u001b[39msum(x\u001b[38;5;241m*\u001b[39mw)\u001b[38;5;241m+\u001b[39mb)\n",
      "\u001b[1;31mNameError\u001b[0m: name 'np' is not defined"
     ]
    }
   ],
   "source": [
    "print(np.sum(x*w)+b)"
   ]
  },
  {
   "cell_type": "code",
   "execution_count": null,
   "metadata": {},
   "outputs": [],
   "source": [
    "def AND(x1,x2):\n",
    "    x=np.array([x1,x2])\n",
    "    w=np.array([0.5,0.5])\n",
    "    b=-0.7\n",
    "    temp= np.sum(x*w)+b\n",
    "    if temp <=0:\n",
    "        return 0\n",
    "    elif temp > 0:\n",
    "        return 1"
   ]
  },
  {
   "cell_type": "code",
   "execution_count": null,
   "metadata": {},
   "outputs": [],
   "source": [
    "def NAND(x1,x2):\n",
    "    x=np.array([x1,x2])\n",
    "    w=np.array([-0.5,-0.5])\n",
    "    b=-0.7\n",
    "    temp=np.sum(x*w)+b\n",
    "    if temp <=0:\n",
    "        return 0\n",
    "    elif temp > 0:\n",
    "        return 1"
   ]
  }
 ],
 "metadata": {
  "kernelspec": {
   "display_name": "Python 3",
   "language": "python",
   "name": "python3"
  },
  "language_info": {
   "codemirror_mode": {
    "name": "ipython",
    "version": 3
   },
   "file_extension": ".py",
   "mimetype": "text/x-python",
   "name": "python",
   "nbconvert_exporter": "python",
   "pygments_lexer": "ipython3",
   "version": "3.12.3"
  }
 },
 "nbformat": 4,
 "nbformat_minor": 2
}
