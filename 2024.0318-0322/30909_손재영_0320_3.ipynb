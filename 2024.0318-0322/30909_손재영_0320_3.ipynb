{
 "cells": [
  {
   "cell_type": "markdown",
   "id": "4511054f",
   "metadata": {},
   "source": [
    "# 30909_손재영_0320_3"
   ]
  },
  {
   "cell_type": "code",
   "execution_count": 3,
   "id": "50d5aae4",
   "metadata": {},
   "outputs": [
    {
     "name": "stdout",
     "output_type": "stream",
     "text": [
      "a부터b까지 정수의 합을 구합니다.\n",
      "정수 a를 입력하세요.:5\n",
      "정수 b를 입력하세요.:2\n",
      "5 + 2 = 7\n"
     ]
    }
   ],
   "source": [
    "print('a부터b까지 정수의 합을 구합니다.')\n",
    "a=int(input(\"정수 a를 입력하세요.:\"))\n",
    "b=int(input(\"정수 b를 입력하세요.:\"))\n",
    "sum=a+b\n",
    "print(f\"{a} + {b} = {sum}\")\n"
   ]
  },
  {
   "cell_type": "code",
   "execution_count": 5,
   "id": "49dd5fc0",
   "metadata": {},
   "outputs": [
    {
     "name": "stdout",
     "output_type": "stream",
     "text": [
      "a부터 b까지 정수의 합을 구합니다.\n",
      "정수 a를 입력하세요.:5\n",
      "정수 b를 입력하세요.:8\n",
      "5+6+7+8=26\n"
     ]
    }
   ],
   "source": [
    "print(\"a부터 b까지 정수의 합을 구합니다.\")\n",
    "a=int(input(\"정수 a를 입력하세요.:\"))\n",
    "b=int(input(\"정수 b를 입력하세요.:\"))\n",
    "sum=0\n",
    "\n",
    "if a>b:\n",
    "    a,b=b,a\n",
    "    \n",
    "for i in range(a,b+1):\n",
    "    if i < b :\n",
    "        print(f'{i}+',end=\"\")\n",
    "    else :\n",
    "        print(f'{i}=',end=\"\")\n",
    "    sum=sum+i\n",
    "print(sum)"
   ]
  },
  {
   "cell_type": "code",
   "execution_count": 6,
   "id": "a9bb7a45",
   "metadata": {},
   "outputs": [
    {
     "name": "stdout",
     "output_type": "stream",
     "text": [
      "a부터 b까지 정수의 합을 구합니다.\n",
      "정수 a를 입력하세요.:5\n",
      "정수 b를 입력하세요.:8\n",
      "5 +6 +7 +8=26\n"
     ]
    }
   ],
   "source": [
    "print(\"a부터 b까지 정수의 합을 구합니다.\")\n",
    "a=int(input(\"정수 a를 입력하세요.:\"))\n",
    "b=int(input(\"정수 b를 입력하세요.:\"))\n",
    "sum=0\n",
    "\n",
    "if a>b:\n",
    "    a,b=b,a\n",
    "\n",
    "for i in range(a ,b):\n",
    "    print(f'{i} +',end=\"\")\n",
    "    sum=sum+i\n",
    "print(f'{b}=',end=\"\")\n",
    "sum = sum +b\n",
    "\n",
    "print(sum)"
   ]
  },
  {
   "cell_type": "code",
   "execution_count": 13,
   "id": "4ac5da9d",
   "metadata": {},
   "outputs": [
    {
     "name": "stdout",
     "output_type": "stream",
     "text": [
      "+와- 번갈아 풀력합니다.\n",
      "몇 개를 출력할까요?:13\n",
      "+-+-+-+-+-+-+"
     ]
    }
   ],
   "source": [
    "print('+와- 번갈아 풀력합니다.')\n",
    "n=int(input(\"몇 개를 출력할까요?:\"))\n",
    "\n",
    "for i in range(n):\n",
    "    if i % 2:\n",
    "        print('-',end=\"\")\n",
    "    else:\n",
    "        print('+',end=\"\")"
   ]
  }
 ],
 "metadata": {
  "kernelspec": {
   "display_name": "Python 3 (ipykernel)",
   "language": "python",
   "name": "python3"
  },
  "language_info": {
   "codemirror_mode": {
    "name": "ipython",
    "version": 3
   },
   "file_extension": ".py",
   "mimetype": "text/x-python",
   "name": "python",
   "nbconvert_exporter": "python",
   "pygments_lexer": "ipython3",
   "version": "3.9.7"
  }
 },
 "nbformat": 4,
 "nbformat_minor": 5
}
