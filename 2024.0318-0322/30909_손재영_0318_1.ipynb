{
 "cells": [
  {
   "cell_type": "markdown",
   "id": "544dc12e",
   "metadata": {},
   "source": [
    "# 30909_손재영_0318_1"
   ]
  },
  {
   "cell_type": "code",
   "execution_count": 10,
   "id": "16ca3762",
   "metadata": {},
   "outputs": [
    {
     "name": "stdout",
     "output_type": "stream",
     "text": [
      "세 정수의 최대값을 구합니다.\n",
      "정수 a의 값을 입력하세요.:12312\n",
      "정수 b의 값을 입력하세요.:31231\n",
      "정수 c의 값을 입력하세요.:2312\n",
      "최대값은 31231입니다.\n"
     ]
    }
   ],
   "source": [
    "# 세 정수를 입력받아 최대값 구하기\n",
    "\n",
    "print('세 정수의 최대값을 구합니다.')\n",
    "\n",
    "a=int(input(\"정수 a의 값을 입력하세요.:\"))\n",
    "b=int(input('정수 b의 값을 입력하세요.:'))\n",
    "c=int(input('정수 c의 값을 입력하세요.:'))\n",
    "\n",
    "#최대값을 구하는 알고리즘\n",
    "max=a\n",
    "if b > max : max =b\n",
    "if c > max : max =c    \n",
    "\n",
    "print(f'최대값은 {max}입니다.')"
   ]
  },
  {
   "cell_type": "code",
   "execution_count": 18,
   "id": "2851fad5",
   "metadata": {},
   "outputs": [
    {
     "name": "stdout",
     "output_type": "stream",
     "text": [
      "정수를 입력하세요.:123\n",
      "이수는 양수 입니다.\n"
     ]
    }
   ],
   "source": [
    "a=int(input('정수를 입력하세요.:'))\n",
    "\n",
    "if a >0 : \n",
    "    print(\"이수는 양수 입니다.\")\n",
    "elif a<0 : \n",
    "    print('이수는 음수 입니다.')\n",
    "else :\n",
    "    print('이수는 0입니다')\n",
    "\n"
   ]
  },
  {
   "cell_type": "code",
   "execution_count": 23,
   "id": "c3842fcf",
   "metadata": {},
   "outputs": [
    {
     "name": "stdout",
     "output_type": "stream",
     "text": [
      "1부터n까지 정수의 합을 구합니다\n",
      "n값을 입력하세요.:5\n",
      "1부터 5까지 정수의 합은 15입니다.\n"
     ]
    }
   ],
   "source": [
    "print('1부터n까지 정수의 합을 구합니다')\n",
    "n=int(input('n값을 입력하세요.:'))\n",
    "sum =0\n",
    "i=1\n",
    "while i <= n : \n",
    "    sum += i #sum =sum+i\n",
    "    i += 1 #i=i+1\n",
    "    \n",
    "#출력\n",
    "print(f'1부터 {n}까지 정수의 합은 {sum}입니다.')"
   ]
  }
 ],
 "metadata": {
  "kernelspec": {
   "display_name": "Python 3 (ipykernel)",
   "language": "python",
   "name": "python3"
  },
  "language_info": {
   "codemirror_mode": {
    "name": "ipython",
    "version": 3
   },
   "file_extension": ".py",
   "mimetype": "text/x-python",
   "name": "python",
   "nbconvert_exporter": "python",
   "pygments_lexer": "ipython3",
   "version": "3.9.7"
  }
 },
 "nbformat": 4,
 "nbformat_minor": 5
}
