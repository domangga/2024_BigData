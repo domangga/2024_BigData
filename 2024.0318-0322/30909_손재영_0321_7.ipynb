{
 "cells": [
  {
   "cell_type": "markdown",
   "id": "8a3a2a4b",
   "metadata": {},
   "source": [
    "# 30909_손재영_0321_7"
   ]
  },
  {
   "cell_type": "code",
   "execution_count": 2,
   "id": "3743a6d2",
   "metadata": {},
   "outputs": [
    {
     "name": "stdout",
     "output_type": "stream",
     "text": [
      "+와-를 번갈아 출력합니다.\n",
      "몇 개를 출력할까요?:7\n",
      "+-+-+-+"
     ]
    }
   ],
   "source": [
    "print('+와-를 번갈아 출력합니다.')\n",
    "n=int(input(\"몇 개를 출력할까요?:\"))\n",
    "\n",
    "for i in range(n):\n",
    "    if i %2:\n",
    "        print('-',end='')\n",
    "    else:\n",
    "        print('+',end='')"
   ]
  },
  {
   "cell_type": "code",
   "execution_count": 13,
   "id": "0721efa6",
   "metadata": {},
   "outputs": [
    {
     "name": "stdout",
     "output_type": "stream",
     "text": [
      "+와-를 번갈아 출력합니다.\n",
      "몇 개를 출력할까요?:20\n",
      "+-+-+-+-+-+-+-+-+-+-"
     ]
    }
   ],
   "source": [
    "print('+와-를 번갈아 출력합니다.')\n",
    "n=int(input(\"몇 개를 출력할까요?:\"))\n",
    "a=1\n",
    "for i in range(a,n+1):\n",
    "    if i %2:\n",
    "        print('+',end='')\n",
    "    else:\n",
    "        print('-',end='')"
   ]
  },
  {
   "cell_type": "code",
   "execution_count": 15,
   "id": "e4c70ad6",
   "metadata": {},
   "outputs": [
    {
     "name": "stdout",
     "output_type": "stream",
     "text": [
      "+와-를 번갈아 출력합니다.\n",
      "몇 개를 출력할까요?:10\n",
      "+-+-+-+-+-\n"
     ]
    }
   ],
   "source": [
    "print('+와-를 번갈아 출력합니다.')\n",
    "n=int(input(\"몇 개를 출력할까요?:\"))\n",
    "\n",
    "for _ in range(n // 2):\n",
    "    print('-',end='') #n // 2개의 +-를 출력\n",
    "    \n",
    "if n%2:\n",
    "    print('+',end='') #n 이 홀수 있때만 +출력\n",
    "    \n",
    "print()"
   ]
  },
  {
   "cell_type": "code",
   "execution_count": 19,
   "id": "19098bb0",
   "metadata": {},
   "outputs": [
    {
     "name": "stdout",
     "output_type": "stream",
     "text": [
      "*르 출력합니다.\n",
      "몇 개를 출력할까요?:20\n",
      "몇 개마다 줄바꿈 할까요?:7\n",
      "*******\n",
      "*******\n",
      "******"
     ]
    }
   ],
   "source": [
    "print(\"*르 출력합니다.\")\n",
    "n=int(input(\"몇 개를 출력할까요?:\"))\n",
    "b=int(input(\"몇 개마다 줄바꿈 할까요?:\"))\n",
    "\n",
    "for i in range (n):6\n",
    "    print('*',end='')\n",
    "    if i %b==b-1: #n번 판단\n",
    "        print() #줄바꿈"
   ]
  },
  {
   "cell_type": "code",
   "execution_count": 40,
   "id": "96dd9880",
   "metadata": {},
   "outputs": [
    {
     "name": "stdout",
     "output_type": "stream",
     "text": [
      "1부터n까지 정수의 합을 구합니다.\n",
      "n값을 입력하세요:-6\n",
      "n값을 입력하세요:0\n",
      "n값을 입력하세요:10\n",
      "1부타10까지 정수의 합은55입니다.\n"
     ]
    }
   ],
   "source": [
    "print('1부터n까지 정수의 합을 구합니다.')\n",
    "n=int(input('n값을 입력하세요:'))\n",
    "while n <=0:\n",
    "    n=int(input('n값을 입력하세요:'))\n",
    "sum=0\n",
    "for i in range(1,n+1):\n",
    "    sum+=i\n",
    "print(f'1부타{n}까지 정수의 합은{sum}입니다.')"
   ]
  }
 ],
 "metadata": {
  "kernelspec": {
   "display_name": "Python 3 (ipykernel)",
   "language": "python",
   "name": "python3"
  },
  "language_info": {
   "codemirror_mode": {
    "name": "ipython",
    "version": 3
   },
   "file_extension": ".py",
   "mimetype": "text/x-python",
   "name": "python",
   "nbconvert_exporter": "python",
   "pygments_lexer": "ipython3",
   "version": "3.9.7"
  }
 },
 "nbformat": 4,
 "nbformat_minor": 5
}
