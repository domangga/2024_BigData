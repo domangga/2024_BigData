{
 "cells": [
  {
   "cell_type": "markdown",
   "id": "f605e15e",
   "metadata": {},
   "source": [
    "# 30909_손재영_0403_3"
   ]
  },
  {
   "cell_type": "markdown",
   "id": "2daa533a",
   "metadata": {},
   "source": [
    "본 문제는 python 의 빠른 기초 학습을 위해 설계된 문제로서 python 코드 제출을 기준으로 설명되어 있습니다. \n",
    "------\n",
    "\n",
    "1부터 n까지, 1부터 m까지 숫자가 적힌 서로 다른 주사위 2개를 던졌을 때,\n",
    "나올 수 있는 모든 경우를 출력해보자.\n",
    "\n",
    "예시\n",
    "...\n",
    "for i in range(1, n+1) :\n",
    "  for j in range(1, m+1) :\n",
    "    print(i, j)\n",
    "...\n",
    "\n",
    "참고\n",
    "위 코드는\n",
    "바깥쪽의 i 값이 1부터 n까지 순서대로 바뀌는 각각의 동안에\n",
    "안쪽의 j 값이 다시 1부터 m까지 변하며 출력되는 코드이다.\n",
    "\n",
    "조건선택 실행구조 안에 다른 조건선택 실행구조를 넣어 처리할 수 있는 것과 마찬가지로\n",
    "반복 실행구조 안에 다른 반복 실행구조를 넣어 처리할 수 있다.\n",
    "\n",
    "원하는 형태로 실행 구조를 결합하거나 중첩시킬 수 있다."
   ]
  },
  {
   "cell_type": "code",
   "execution_count": 5,
   "id": "f2fe4c5b",
   "metadata": {
    "scrolled": true
   },
   "outputs": [
    {
     "name": "stdout",
     "output_type": "stream",
     "text": [
      "2 3\n",
      "1 1\n",
      "1 2\n",
      "1 3\n",
      "2 1\n",
      "2 2\n",
      "2 3\n"
     ]
    }
   ],
   "source": [
    "n,m=input().split()\n",
    "for i in range(1,int(n)+1):\n",
    "    for j in range(1,int(m)+1):\n",
    "        print(i,j)"
   ]
  },
  {
   "cell_type": "markdown",
   "id": "76108953",
   "metadata": {},
   "source": [
    "본 문제는 python 의 빠른 기초 학습을 위해 설계된 문제로서 python 코드 제출을 기준으로 설명되어 있습니다. \n",
    "------\n",
    "\n",
    "16진수(0, 1, 2, 3, 4, 5, 6, 7, 8, 9, A, B, C, D, E, F)를 배운\n",
    "영일이는 16진수끼리 곱하는 16진수 구구단?에 대해서 궁금해졌다.\n",
    "\n",
    "A, B, C, D, E, F 중 하나가 입력될 때,\n",
    "1부터 F까지 곱한 16진수 구구단의 내용을 출력해보자.\n",
    "(단, A ~ F 까지만 입력된다.)\n",
    "\n",
    "예시\n",
    "...\n",
    "  print('%X'%n, '*%X'%i, '=%X'%(n*i), sep='')\n",
    "...\n",
    "\n",
    "참고\n",
    "print('%X'%n)    #n에 저장되어있는 값을 16진수(hexadecimal) 형태로 출력\n",
    "작은 따옴표 2개를 사용해서 print(..., sep='') 으로 출력하면, 공백없이 모두 붙여 출력된다.\n",
    "작은 따옴표 2개 '' 또는 큰 따옴표 2개 \"\" 는 아무 문자도 없는 빈문자열(empty string)을 의미한다."
   ]
  },
  {
   "cell_type": "code",
   "execution_count": 24,
   "id": "f720a5f2",
   "metadata": {},
   "outputs": [
    {
     "name": "stdout",
     "output_type": "stream",
     "text": [
      "B\n",
      "B*1=B\n",
      "B*2=16\n",
      "B*3=21\n",
      "B*4=2C\n",
      "B*5=37\n",
      "B*6=42\n",
      "B*7=4D\n",
      "B*8=58\n",
      "B*9=63\n",
      "B*A=6E\n",
      "B*B=79\n",
      "B*C=84\n",
      "B*D=8F\n",
      "B*E=9A\n",
      "B*F=A5\n"
     ]
    }
   ],
   "source": [
    "n=int(input(),16)\n",
    "\n",
    "for i in range(1,16):\n",
    "    print('%X'%n,'*','%X'%i,'=%X'%(n*i),sep=\"\")"
   ]
  },
  {
   "cell_type": "markdown",
   "id": "a0d4aee5",
   "metadata": {},
   "source": [
    "본 문제는 python 의 빠른 기초 학습을 위해 설계된 문제로서 python 코드 제출을 기준으로 설명되어 있습니다. \n",
    "------\n",
    "\n",
    "친구들과 함께 3 6 9 게임을 하던 영일이는 잦은 실수 때문에 계속해서 벌칙을 받게 되었다.\n",
    "3 6 9 게임의 왕이 되기 위한 369 마스터 프로그램을 작성해 보자.\n",
    "\n",
    "** 3 6 9 게임은?\n",
    "여러 사람이 순서를 정한 후, 순서대로 수를 부르는 게임이다.\n",
    "만약 3, 6, 9 가 들어간 수를 자신이 불러야 하는 상황이라면, 수를 부르는 대신 \"박수(X)\" 를 쳐야 한다.\n",
    "33과 같이 3,6,9가 두 번 들어간 수 일때, \"짝짝\"과 같이 박수를 두 번 치는 형태도 있다. \n",
    "\n",
    "참고 \n",
    "...\n",
    "for i in range(1, n+1) :\n",
    "  if i%10==3 :\n",
    "    print(\"X\", end=' ')    #출력 후 공백문자(빈칸, ' ')로 끝냄\n",
    "..."
   ]
  },
  {
   "cell_type": "code",
   "execution_count": 44,
   "id": "979a6fe4",
   "metadata": {},
   "outputs": [
    {
     "ename": "SyntaxError",
     "evalue": "invalid syntax (3641475016.py, line 3)",
     "output_type": "error",
     "traceback": [
      "\u001b[1;36m  Cell \u001b[1;32mIn[44], line 3\u001b[1;36m\u001b[0m\n\u001b[1;33m    if i%10==3 i%10==6 or i%10==9:\u001b[0m\n\u001b[1;37m               ^\u001b[0m\n\u001b[1;31mSyntaxError\u001b[0m\u001b[1;31m:\u001b[0m invalid syntax\n"
     ]
    }
   ],
   "source": [
    "n=int(input())\n",
    "for i in range(1, n+1):\n",
    "    if i%10==3:\n",
    "        print(\"X\", end=' ')\n",
    "    elif i%10==6:\n",
    "        print(\"X\", end=' ')\n",
    "    elif i%10==9:\n",
    "        print(\"X\", end=' ')\n",
    "    else:     \n",
    "        print(i ,end=\" \")"
   ]
  }
 ],
 "metadata": {
  "kernelspec": {
   "display_name": "Python 3 (ipykernel)",
   "language": "python",
   "name": "python3"
  },
  "language_info": {
   "codemirror_mode": {
    "name": "ipython",
    "version": 3
   },
   "file_extension": ".py",
   "mimetype": "text/x-python",
   "name": "python",
   "nbconvert_exporter": "python",
   "pygments_lexer": "ipython3",
   "version": "3.10.9"
  }
 },
 "nbformat": 4,
 "nbformat_minor": 5
}
