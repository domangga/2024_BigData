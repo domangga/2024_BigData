{
 "cells": [
  {
   "cell_type": "markdown",
   "id": "033be027",
   "metadata": {},
   "source": [
    "# 30909_손재영_0402_4"
   ]
  },
  {
   "cell_type": "code",
   "execution_count": 4,
   "id": "aca5618e",
   "metadata": {},
   "outputs": [
    {
     "name": "stdout",
     "output_type": "stream",
     "text": [
      "Collecting max\n",
      "  Downloading max-4.0.26.zip (2.1 MB)\n",
      "     ---------------------------------------- 2.1/2.1 MB 33.9 MB/s eta 0:00:00\n",
      "  Preparing metadata (setup.py): started\n",
      "  Preparing metadata (setup.py): finished with status 'done'\n",
      "Requirement already satisfied: setuptools in c:\\users\\user\\anaconda3\\lib\\site-packages (from max) (65.6.3)\n",
      "Collecting pyramid\n",
      "  Downloading pyramid-2.0.2-py3-none-any.whl (247 kB)\n",
      "     ------------------------------------- 247.3/247.3 kB 14.8 MB/s eta 0:00:00\n",
      "Collecting pyramid_tm\n",
      "  Downloading pyramid_tm-2.5-py2.py3-none-any.whl (6.5 kB)\n",
      "Collecting pyramid_debugtoolbar\n",
      "  Downloading pyramid_debugtoolbar-4.12.1-py3-none-any.whl (350 kB)\n",
      "     ------------------------------------- 350.8/350.8 kB 11.0 MB/s eta 0:00:00\n",
      "Collecting pyramid_beaker\n",
      "  Downloading pyramid_beaker-0.8.tar.gz (21 kB)\n",
      "  Preparing metadata (setup.py): started\n",
      "  Preparing metadata (setup.py): finished with status 'done'\n",
      "Collecting pymongo\n",
      "  Downloading pymongo-4.6.3-cp310-cp310-win_amd64.whl (472 kB)\n",
      "     ------------------------------------- 472.9/472.9 kB 28.9 MB/s eta 0:00:00\n",
      "Collecting rfc3339\n",
      "  Downloading rfc3339-6.2-py3-none-any.whl (5.5 kB)\n",
      "Requirement already satisfied: requests in c:\\users\\user\\anaconda3\\lib\\site-packages (from max) (2.28.1)\n",
      "Collecting tweepy\n",
      "  Downloading tweepy-4.14.0-py3-none-any.whl (98 kB)\n",
      "     ---------------------------------------- 98.5/98.5 kB ? eta 0:00:00\n",
      "Collecting waitress\n",
      "  Downloading waitress-3.0.0-py3-none-any.whl (56 kB)\n",
      "     ---------------------------------------- 56.7/56.7 kB 2.9 MB/s eta 0:00:00\n",
      "Collecting Paste\n",
      "  Downloading Paste-3.8.0-py3-none-any.whl (278 kB)\n",
      "     ---------------------------------------- 278.6/278.6 kB ? eta 0:00:00\n",
      "Requirement already satisfied: bleach in c:\\users\\user\\anaconda3\\lib\\site-packages (from max) (4.1.0)\n",
      "Collecting pika\n",
      "  Downloading pika-1.3.2-py3-none-any.whl (155 kB)\n",
      "     -------------------------------------- 155.4/155.4 kB 9.7 MB/s eta 0:00:00\n",
      "Requirement already satisfied: Pillow in c:\\users\\user\\anaconda3\\lib\\site-packages (from max) (9.4.0)\n",
      "Collecting max\n",
      "  Downloading max-3.6.zip (2.0 MB)\n",
      "     ---------------------------------------- 2.0/2.0 MB 32.4 MB/s eta 0:00:00\n",
      "  Preparing metadata (setup.py): started\n",
      "  Preparing metadata (setup.py): finished with status 'done'\n",
      "Collecting osiris\n",
      "  Downloading osiris-1.4.zip (39 kB)\n",
      "  Preparing metadata (setup.py): started\n",
      "  Preparing metadata (setup.py): finished with status 'error'\n"
     ]
    },
    {
     "name": "stderr",
     "output_type": "stream",
     "text": [
      "  error: subprocess-exited-with-error\n",
      "  \n",
      "  python setup.py egg_info did not run successfully.\n",
      "  exit code: 1\n",
      "  \n",
      "  [6 lines of output]\n",
      "  Traceback (most recent call last):\n",
      "    File \"<string>\", line 2, in <module>\n",
      "    File \"<pip-setuptools-caller>\", line 34, in <module>\n",
      "    File \"C:\\Users\\user\\AppData\\Local\\Temp\\pip-install-58aj1_3b\\osiris_4f57c10d84124574b39fb73f640c67be\\setup.py\", line 6, in <module>\n",
      "      README = open(os.path.join(here, 'README.rst')).read()\n",
      "  UnicodeDecodeError: 'cp949' codec can't decode byte 0xca in position 37: illegal multibyte sequence\n",
      "  [end of output]\n",
      "  \n",
      "  note: This error originates from a subprocess, and is likely not a problem with pip.\n",
      "error: metadata-generation-failed\n",
      "\n",
      "Encountered error while generating package metadata.\n",
      "\n",
      "See above for output.\n",
      "\n",
      "note: This is an issue with the package mentioned above, not pip.\n",
      "hint: See above for details.\n"
     ]
    }
   ],
   "source": [
    "!pip install max"
   ]
  },
  {
   "cell_type": "code",
   "execution_count": 12,
   "id": "f9dd1d8c",
   "metadata": {},
   "outputs": [
    {
     "name": "stdout",
     "output_type": "stream",
     "text": [
      "(4, 7, 5.6, 2, 3.14, 1)의 최대값은 7입니다.\n",
      "string의 최대값은 t입니다.\n",
      "['DTS', 'AAC', 'FLAC']의 최대값은 FLAC입니다.\n"
     ]
    }
   ],
   "source": [
    "from typing import Any, Sequence\n",
    "\n",
    "def max_of(a: Sequence)->Any:\n",
    "    maximum =a[0]\n",
    "    for i in range(1,len(a)):\n",
    "        if a[i]>maximum:\n",
    "            maximum=a[i]\n",
    "    return maximum\n",
    "\n",
    "t=(4,7,5.6,2,3.14,1)\n",
    "s='string'\n",
    "a=['DTS','AAC','FLAC']\n",
    "\n",
    "print(f'{t}의 최대값은 {max_of(t)}입니다.')\n",
    "print(f'{s}의 최대값은 {max_of(s)}입니다.')\n",
    "print(f'{a}의 최대값은 {max_of(a)}입니다.')"
   ]
  },
  {
   "cell_type": "code",
   "execution_count": 11,
   "id": "8f013075",
   "metadata": {},
   "outputs": [
    {
     "name": "stdout",
     "output_type": "stream",
     "text": [
      "배열 원소를 역순으로 정렬합니다.\n",
      "원소수를 입력하세요.:7\n",
      "x[0] :2\n",
      "x[1] :5\n",
      "x[2] :1\n",
      "x[3] :3\n",
      "x[4] :9\n",
      "x[5] :6\n",
      "x[6] :7\n",
      "배열 원소를 역순으로 정렬했습니다.\n",
      "x[0]=7\n",
      "x[1]=6\n",
      "x[2]=9\n",
      "x[3]=3\n",
      "x[4]=1\n",
      "x[5]=5\n",
      "x[6]=2\n"
     ]
    }
   ],
   "source": [
    "from typing import Any, MutableSequence\n",
    "\n",
    "def reverse_array(a:MutableSequence)->None:\n",
    "    \n",
    "    n=len(a)\n",
    "    for i in range(n//2):\n",
    "        a[i], a[n-i-1]=a[n-i-1],a[i]\n",
    "        \n",
    "if __name__ == '__main__':\n",
    "    print(\"배열 원소를 역순으로 정렬합니다.\")\n",
    "    nx=int(input(\"원소수를 입력하세요.:\"))\n",
    "    x=[None]*nx\n",
    "    \n",
    "    for i in range(nx):\n",
    "        x[i]=int(input(f'x[{i}] :'))\n",
    "        \n",
    "    reverse_array(x)\n",
    "    \n",
    "    print(\"배열 원소를 역순으로 정렬했습니다.\")\n",
    "    for i in range(nx):\n",
    "        print(f'x[{i}]={x[i]}')"
   ]
  }
 ],
 "metadata": {
  "kernelspec": {
   "display_name": "Python 3 (ipykernel)",
   "language": "python",
   "name": "python3"
  },
  "language_info": {
   "codemirror_mode": {
    "name": "ipython",
    "version": 3
   },
   "file_extension": ".py",
   "mimetype": "text/x-python",
   "name": "python",
   "nbconvert_exporter": "python",
   "pygments_lexer": "ipython3",
   "version": "3.10.9"
  }
 },
 "nbformat": 4,
 "nbformat_minor": 5
}
