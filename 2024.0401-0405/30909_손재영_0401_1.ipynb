{
 "cells": [
  {
   "cell_type": "markdown",
   "id": "1bbab795",
   "metadata": {},
   "source": [
    "# 30909_손재영_0401_1"
   ]
  },
  {
   "cell_type": "code",
   "execution_count": 10,
   "id": "4408f96d",
   "metadata": {},
   "outputs": [
    {
     "name": "stdout",
     "output_type": "stream",
     "text": [
      "배열의 최개값을 구합니다.\n",
      "원소 수를 입력하세요.5\n",
      "x[0]를 입력하세요.:172\n",
      "x[1]를 입력하세요.:153\n",
      "x[2]를 입력하세요.:192\n",
      "x[3]를 입력하세요.:140\n",
      "x[4]를 입력하세요.:165\n",
      "최대값은 192입니다.\n"
     ]
    }
   ],
   "source": [
    "from typing import Any, Sequence\n",
    "\n",
    "def max_of(a: Sequence)->Any:\n",
    "    maximum =a[0]\n",
    "    for i in range(1,len(a)):\n",
    "        if a[i]>maximum:\n",
    "            maximum=a[i]\n",
    "    return maximum\n",
    "\n",
    "if __name__=='__main__':\n",
    "    print(\"배열의 최개값을 구합니다.\")\n",
    "    num=int(input(\"원소 수를 입력하세요.\"))\n",
    "    x=[None] *num\n",
    "\n",
    "    for i in range(num):\n",
    "        x[i] = int(input(f'x[{i}]를 입력하세요.:'))\n",
    "    \n",
    "    print(f'최대값은 {max_of(x)}입니다.')\n"
   ]
  },
  {
   "cell_type": "code",
   "execution_count": 11,
   "id": "20fa225c",
   "metadata": {},
   "outputs": [
    {
     "name": "stdout",
     "output_type": "stream",
     "text": [
      "배열의 최대값을 구합니다.\n",
      "주의: \"End\"를 입력하면 종료합니다.\n",
      "x[0]를 입력하세요.:15\n",
      "x[1]를 입력하세요.:72\n",
      "x[2]를 입력하세요.:64\n",
      "x[3]를 입력하세요.:7\n",
      "x[4]를 입력하세요.:15\n",
      "x[5]를 입력하세요.:End\n",
      "5개를 입력했습니다.\n",
      "최대값은72입니다.\n"
     ]
    }
   ],
   "source": [
    "print(\"배열의 최대값을 구합니다.\")\n",
    "print('주의: \"End\"를 입력하면 종료합니다.')\n",
    "\n",
    "number = 0\n",
    "x= []\n",
    "\n",
    "while True:\n",
    "    s=input(f'x[{number}]를 입력하세요.:')\n",
    "    if s== 'End':\n",
    "        break\n",
    "    x.append(int(s))\n",
    "    number +=1\n",
    "print(f'{number}개를 입력했습니다.')\n",
    "print(f'최대값은{max_of(x)}입니다.')"
   ]
  },
  {
   "cell_type": "code",
   "execution_count": 12,
   "id": "e8698db3",
   "metadata": {},
   "outputs": [
    {
     "name": "stdout",
     "output_type": "stream",
     "text": [
      "난수의 최대값을 구합니다.\n",
      "난수의 개수를 입력하세요.:5\n",
      "난수의 개수를 입력하세요.:10\n",
      "난수의 개수를 입력하세요.:99\n",
      "[26, 32, 99, 17, 73]\n",
      "이 가운데 최대값은99입니다.\n"
     ]
    }
   ],
   "source": [
    "import random\n",
    "print('난수의 최대값을 구합니다.')\n",
    "num= int(input('난수의 개수를 입력하세요.:'))\n",
    "lo= int(input('난수의 개수를 입력하세요.:'))\n",
    "hi= int(input('난수의 개수를 입력하세요.:'))\n",
    "x= [None]*num\n",
    "\n",
    "for i in range(num):\n",
    "    x[i]=random.randint(lo,hi)\n",
    "    \n",
    "print(f'{(x)}')\n",
    "print(f'이 가운데 최대값은{max_of(x)}입니다.')"
   ]
  }
 ],
 "metadata": {
  "kernelspec": {
   "display_name": "Python 3 (ipykernel)",
   "language": "python",
   "name": "python3"
  },
  "language_info": {
   "codemirror_mode": {
    "name": "ipython",
    "version": 3
   },
   "file_extension": ".py",
   "mimetype": "text/x-python",
   "name": "python",
   "nbconvert_exporter": "python",
   "pygments_lexer": "ipython3",
   "version": "3.9.7"
  }
 },
 "nbformat": 4,
 "nbformat_minor": 5
}
