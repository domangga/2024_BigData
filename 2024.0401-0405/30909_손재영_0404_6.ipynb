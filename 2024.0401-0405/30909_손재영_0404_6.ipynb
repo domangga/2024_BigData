{
 "cells": [
  {
   "cell_type": "markdown",
   "id": "bf7e6ba3",
   "metadata": {},
   "source": [
    "# 30909_손재영_0404_6"
   ]
  },
  {
   "cell_type": "markdown",
   "id": "3ee44733",
   "metadata": {},
   "source": [
    "## 리스트와 튜플 알아보기\n",
    "- 리스트와 튜플 플어내기\n",
    "    - 좌변에는 여러개의 변수를 놓고 우변에는 리스트나 튜플을 놓으면 우변의 원소를 좌면의 변수에 한번에 댜입가능\n",
    "- 언팩 unpack\n",
    "    - 리스트나 튜플의 원솟값들을 풀어 여러 변수에 대입\n",
    "   \n",
    "- 슬라이스 slice\n",
    "    - 리스트나 튜플의 원소 일부를 연속해서 또는 일정한 간격으로 껀 새로운 리스트나 튜플을 만드는것\n",
    "    - s[i:j] s[i]부터 [j-1]까지 나열\n",
    "    - s[i:j:k] i부터 j-1까지 k만큼 건너뛰며 나열"
   ]
  },
  {
   "cell_type": "code",
   "execution_count": 1,
   "id": "6f57cadb",
   "metadata": {},
   "outputs": [
    {
     "data": {
      "text/plain": [
       "[1, 2, 3]"
      ]
     },
     "execution_count": 1,
     "metadata": {},
     "output_type": "execute_result"
    }
   ],
   "source": [
    "x=[1,2,3]\n",
    "x"
   ]
  },
  {
   "cell_type": "code",
   "execution_count": 2,
   "id": "490e1fb2",
   "metadata": {},
   "outputs": [
    {
     "data": {
      "text/plain": [
       "list"
      ]
     },
     "execution_count": 2,
     "metadata": {},
     "output_type": "execute_result"
    }
   ],
   "source": [
    "type(x)"
   ]
  },
  {
   "cell_type": "code",
   "execution_count": 3,
   "id": "034cb5ec",
   "metadata": {},
   "outputs": [],
   "source": [
    "a,b,c=x"
   ]
  },
  {
   "cell_type": "code",
   "execution_count": 4,
   "id": "4fc9cf4d",
   "metadata": {
    "scrolled": true
   },
   "outputs": [
    {
     "data": {
      "text/plain": [
       "(1, 2, 3)"
      ]
     },
     "execution_count": 4,
     "metadata": {},
     "output_type": "execute_result"
    }
   ],
   "source": [
    "a,b,c"
   ]
  },
  {
   "cell_type": "code",
   "execution_count": 9,
   "id": "da9fb8ff",
   "metadata": {
    "scrolled": true
   },
   "outputs": [
    {
     "data": {
      "text/plain": [
       "[11, 22, 33, 44, 55, 66]"
      ]
     },
     "execution_count": 9,
     "metadata": {},
     "output_type": "execute_result"
    }
   ],
   "source": [
    "y=[11,22,33,44,55,66]\n",
    "y"
   ]
  },
  {
   "cell_type": "code",
   "execution_count": 10,
   "id": "7eab9bb7",
   "metadata": {},
   "outputs": [
    {
     "data": {
      "text/plain": [
       "33"
      ]
     },
     "execution_count": 10,
     "metadata": {},
     "output_type": "execute_result"
    }
   ],
   "source": [
    "y[2]"
   ]
  },
  {
   "cell_type": "code",
   "execution_count": 11,
   "id": "3fa9eb00",
   "metadata": {},
   "outputs": [
    {
     "data": {
      "text/plain": [
       "55"
      ]
     },
     "execution_count": 11,
     "metadata": {},
     "output_type": "execute_result"
    }
   ],
   "source": [
    "y[-2]"
   ]
  },
  {
   "cell_type": "code",
   "execution_count": 12,
   "id": "7eaca3f2",
   "metadata": {},
   "outputs": [
    {
     "data": {
      "text/plain": [
       "[44, 55]"
      ]
     },
     "execution_count": 12,
     "metadata": {},
     "output_type": "execute_result"
    }
   ],
   "source": [
    "y[3:5]"
   ]
  },
  {
   "cell_type": "code",
   "execution_count": 15,
   "id": "5eed2497",
   "metadata": {},
   "outputs": [
    {
     "data": {
      "text/plain": [
       "[11, 22, 33, 44]"
      ]
     },
     "execution_count": 15,
     "metadata": {},
     "output_type": "execute_result"
    }
   ],
   "source": [
    "y[:4]"
   ]
  },
  {
   "cell_type": "code",
   "execution_count": 17,
   "id": "efcc7371",
   "metadata": {},
   "outputs": [
    {
     "data": {
      "text/plain": [
       "[55]"
      ]
     },
     "execution_count": 17,
     "metadata": {},
     "output_type": "execute_result"
    }
   ],
   "source": [
    "y[-2:-1]"
   ]
  },
  {
   "cell_type": "code",
   "execution_count": 18,
   "id": "61338675",
   "metadata": {},
   "outputs": [
    {
     "data": {
      "text/plain": [
       "[44, 55, 66]"
      ]
     },
     "execution_count": 18,
     "metadata": {},
     "output_type": "execute_result"
    }
   ],
   "source": [
    "y[-3:]"
   ]
  },
  {
   "cell_type": "code",
   "execution_count": 19,
   "id": "b33a1a63",
   "metadata": {},
   "outputs": [
    {
     "data": {
      "text/plain": [
       "[11, 33, 55]"
      ]
     },
     "execution_count": 19,
     "metadata": {},
     "output_type": "execute_result"
    }
   ],
   "source": [
    "y[::2]"
   ]
  },
  {
   "cell_type": "code",
   "execution_count": 20,
   "id": "75178ef7",
   "metadata": {},
   "outputs": [
    {
     "data": {
      "text/plain": [
       "[66, 55, 44, 33, 22, 11]"
      ]
     },
     "execution_count": 20,
     "metadata": {},
     "output_type": "execute_result"
    }
   ],
   "source": [
    "y[::-1]"
   ]
  },
  {
   "cell_type": "code",
   "execution_count": null,
   "id": "ce792a40",
   "metadata": {},
   "outputs": [],
   "source": [
    "최대값 출력하기\n",
    "\n",
    "from typing import Any, Sequence\n",
    "\n",
    "def max_of(a:Sequence)-> Any:\n",
    "    maximum = a[0]\n",
    "    for i in range(1,len(a)):\n",
    "        if a[i]>maximum:\n",
    "            maximum=a[i]\n",
    "        return maximum\n",
    "    \n",
    "if __name__ == '__main__':\n",
    "    print(\"배열의 최대값을 구합니다,\")\n",
    "    num= int(input(\"원소 수를 입력하세요.:\"))\n",
    "    x=[None]*num\n",
    "    \n",
    "    for i in range(num):\n",
    "        x[i]=int(input(f'[{i}]값을 입력하세요.:'))\n",
    "        print(f'최대값은{max_of(x)}입니다.')"
   ]
  }
 ],
 "metadata": {
  "kernelspec": {
   "display_name": "Python 3 (ipykernel)",
   "language": "python",
   "name": "python3"
  },
  "language_info": {
   "codemirror_mode": {
    "name": "ipython",
    "version": 3
   },
   "file_extension": ".py",
   "mimetype": "text/x-python",
   "name": "python",
   "nbconvert_exporter": "python",
   "pygments_lexer": "ipython3",
   "version": "3.9.7"
  }
 },
 "nbformat": 4,
 "nbformat_minor": 5
}
