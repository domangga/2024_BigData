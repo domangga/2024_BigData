{
 "cells": [
  {
   "cell_type": "markdown",
   "id": "a212e86c",
   "metadata": {},
   "source": [
    "## 30909_손재영_0312_4"
   ]
  },
  {
   "cell_type": "markdown",
   "id": "eb0d440a",
   "metadata": {},
   "source": [
    "## 2.3 데이터를 넣는 입력 명령어\n",
    "#### 2.3.2 입력 명령어 input()"
   ]
  },
  {
   "cell_type": "code",
   "execution_count": 1,
   "id": "0edbb39b",
   "metadata": {},
   "outputs": [
    {
     "name": "stdout",
     "output_type": "stream",
     "text": [
      "성일정보\n"
     ]
    },
    {
     "data": {
      "text/plain": [
       "'성일정보'"
      ]
     },
     "execution_count": 1,
     "metadata": {},
     "output_type": "execute_result"
    }
   ],
   "source": [
    "input()"
   ]
  },
  {
   "cell_type": "code",
   "execution_count": 4,
   "id": "056da27d",
   "metadata": {
    "scrolled": true
   },
   "outputs": [
    {
     "name": "stdout",
     "output_type": "stream",
     "text": [
      "이름a\n"
     ]
    },
    {
     "data": {
      "text/plain": [
       "'a'"
      ]
     },
     "execution_count": 4,
     "metadata": {},
     "output_type": "execute_result"
    }
   ],
   "source": [
    "input(\"이름\")"
   ]
  },
  {
   "cell_type": "markdown",
   "id": "ba37032d",
   "metadata": {},
   "source": [
    "출력형태\n",
    "\n",
    "```\n",
    "아이디 :\n",
    "비밀번호 :\n",
    "```"
   ]
  },
  {
   "cell_type": "code",
   "execution_count": 16,
   "id": "2edb3839",
   "metadata": {
    "scrolled": true
   },
   "outputs": [
    {
     "name": "stdout",
     "output_type": "stream",
     "text": [
      "아이디 :q\n",
      "비밀번호 :2\n"
     ]
    }
   ],
   "source": [
    "i=input(\"아이디 :\")\n",
    "p=input(\"비밀번호 :\")"
   ]
  },
  {
   "cell_type": "markdown",
   "id": "ebc122ab",
   "metadata": {},
   "source": [
    "> 다음을 출력해 봅시다\n",
    "```\n",
    "학번을 입력하세요 -------->30909\n",
    "```"
   ]
  },
  {
   "cell_type": "code",
   "execution_count": 18,
   "id": "05cff13e",
   "metadata": {},
   "outputs": [
    {
     "name": "stdout",
     "output_type": "stream",
     "text": [
      "학번을 입력하세요 --->\n"
     ]
    },
    {
     "data": {
      "text/plain": [
       "''"
      ]
     },
     "execution_count": 18,
     "metadata": {},
     "output_type": "execute_result"
    }
   ],
   "source": [
    "input(\"학번을 입력하세요 --->\")"
   ]
  },
  {
   "cell_type": "markdown",
   "id": "867acd7d",
   "metadata": {},
   "source": [
    ">출력해보기\n",
    "```\n",
    "---회원가입---\n",
    "아이디 :gilbut\n",
    "가입을 환영합니다!\n",
    "```"
   ]
  },
  {
   "cell_type": "code",
   "execution_count": 19,
   "id": "7e6f8fbd",
   "metadata": {},
   "outputs": [
    {
     "name": "stdout",
     "output_type": "stream",
     "text": [
      "---회원가입---\n",
      "아이디: asd\n",
      "가입을 환엽합니다!\n"
     ]
    }
   ],
   "source": [
    "print(\"---회원가입---\")\n",
    "input(\"아이디: \")\n",
    "print(\"가입을 환엽합니다!\")"
   ]
  },
  {
   "cell_type": "markdown",
   "id": "929aa303",
   "metadata": {},
   "source": [
    ">출력해 봅시다\n",
    "\n",
    "```\n",
    "닉네임을 입력해 주세요 -->졔졔쌤\n",
    "졔졔쌤님 안녕하세요\n",
    "```"
   ]
  },
  {
   "cell_type": "code",
   "execution_count": 21,
   "id": "dbe92c56",
   "metadata": {},
   "outputs": [
    {
     "name": "stdout",
     "output_type": "stream",
     "text": [
      "닉네임을 입력해 주세요-->123\n",
      "123님 안녕하세요\n"
     ]
    }
   ],
   "source": [
    "print(input(\"닉네임을 입력해 주세요-->\")+\"님 안녕하세요\")\n"
   ]
  }
 ],
 "metadata": {
  "kernelspec": {
   "display_name": "Python 3 (ipykernel)",
   "language": "python",
   "name": "python3"
  },
  "language_info": {
   "codemirror_mode": {
    "name": "ipython",
    "version": 3
   },
   "file_extension": ".py",
   "mimetype": "text/x-python",
   "name": "python",
   "nbconvert_exporter": "python",
   "pygments_lexer": "ipython3",
   "version": "3.9.7"
  }
 },
 "nbformat": 4,
 "nbformat_minor": 5
}
