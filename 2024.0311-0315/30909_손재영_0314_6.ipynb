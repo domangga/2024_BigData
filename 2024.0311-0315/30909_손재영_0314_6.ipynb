{
 "cells": [
  {
   "cell_type": "markdown",
   "id": "31433b57",
   "metadata": {},
   "source": [
    "# 30909_손재영_0314_6"
   ]
  },
  {
   "cell_type": "markdown",
   "id": "38985fdd",
   "metadata": {},
   "source": [
    "### 3.1 데이터를 정하는 공간: 변수\n",
    "#### 3.1.1 변수란"
   ]
  },
  {
   "cell_type": "code",
   "execution_count": 4,
   "id": "dfa31eeb",
   "metadata": {},
   "outputs": [],
   "source": [
    "a=10"
   ]
  },
  {
   "cell_type": "code",
   "execution_count": 5,
   "id": "a90f4a9e",
   "metadata": {},
   "outputs": [],
   "source": [
    "a=20"
   ]
  },
  {
   "cell_type": "code",
   "execution_count": 6,
   "id": "8704d6c6",
   "metadata": {},
   "outputs": [
    {
     "data": {
      "text/plain": [
       "20"
      ]
     },
     "execution_count": 6,
     "metadata": {},
     "output_type": "execute_result"
    }
   ],
   "source": [
    "a"
   ]
  },
  {
   "cell_type": "markdown",
   "id": "c85d5f4c",
   "metadata": {},
   "source": [
    "### 3.1.2 변수에 값을 저장하고 사용하기"
   ]
  },
  {
   "cell_type": "code",
   "execution_count": 7,
   "id": "d3091d30",
   "metadata": {},
   "outputs": [
    {
     "name": "stdout",
     "output_type": "stream",
     "text": [
      "a\n",
      "10\n"
     ]
    }
   ],
   "source": [
    "a = 10\n",
    "print('a')\n",
    "print(a)"
   ]
  },
  {
   "cell_type": "code",
   "execution_count": 9,
   "id": "19648e0f",
   "metadata": {},
   "outputs": [
    {
     "name": "stdout",
     "output_type": "stream",
     "text": [
      "가나다\n"
     ]
    }
   ],
   "source": [
    "print('가나다')"
   ]
  },
  {
   "cell_type": "code",
   "execution_count": 18,
   "id": "7fbfd989",
   "metadata": {},
   "outputs": [
    {
     "name": "stdout",
     "output_type": "stream",
     "text": [
      "성일정보\n",
      "성일 정보\n"
     ]
    }
   ],
   "source": [
    "b='성일'\n",
    "c='정보'\n",
    "print(b+c)\n",
    "print(b,c)\n"
   ]
  },
  {
   "cell_type": "code",
   "execution_count": 24,
   "id": "b41f1a68",
   "metadata": {},
   "outputs": [
    {
     "name": "stdout",
     "output_type": "stream",
     "text": [
      "유리 175.5 21 programing\n",
      "유리 키는 175.5 , 나이는 21 , 취미는 programing 입니다!\n"
     ]
    }
   ],
   "source": [
    "name = \"유리\"\n",
    "height = 175.5\n",
    "age=21\n",
    "hobby = 'programing'\n",
    "print(name,height,age,hobby)\n",
    "print(name,\"키는\",height,\", 나이는\",age,\", 취미는\",hobby,\"입니다!\")"
   ]
  },
  {
   "cell_type": "code",
   "execution_count": 25,
   "id": "4b9e030c",
   "metadata": {},
   "outputs": [
    {
     "name": "stdout",
     "output_type": "stream",
     "text": [
      "제임스 키는 186 , 나이는 24 , 취미는 요리하기 입니다!\n"
     ]
    }
   ],
   "source": [
    "name1 = '제임스'\n",
    "height1=186\n",
    "age1=24\n",
    "hobby1 = '요리하기'\n",
    "print(name1,\"키는\",height1,\", 나이는\",age1,\", 취미는\",hobby1,\"입니다!\")"
   ]
  },
  {
   "cell_type": "code",
   "execution_count": 29,
   "id": "409be963",
   "metadata": {},
   "outputs": [
    {
     "name": "stdout",
     "output_type": "stream",
     "text": [
      "유리키는 175.5, 나이는 21, 취미는 programing입니다!\n",
      "유리키는 175.5, 나이는 21, 취미는 programing입니다!\n"
     ]
    }
   ],
   "source": [
    "name = \"유리\"\n",
    "height = 175.5\n",
    "age=21\n",
    "hobby = 'programing'\n",
    "print(\"{}키는 {}, 나이는 {}, 취미는 {}입니다!\".format(name,height,age,hobby))\n",
    "print(f\"{name}키는 {height}, 나이는 {age}, 취미는 {hobby}입니다!\")"
   ]
  },
  {
   "cell_type": "markdown",
   "id": "723e27a6",
   "metadata": {},
   "source": [
    "원의 넓이 구해봅시다\n",
    "\n",
    "공식 : 파이 * 반지름 **2"
   ]
  },
  {
   "cell_type": "code",
   "execution_count": 34,
   "id": "7434c43d",
   "metadata": {},
   "outputs": [
    {
     "name": "stdout",
     "output_type": "stream",
     "text": [
      "원의 넓이 =78.5398\n"
     ]
    }
   ],
   "source": [
    "p=3.141592\n",
    "r=5\n",
    "d=p*r**2\n",
    "print(f'원의 넓이 ={d}')"
   ]
  }
 ],
 "metadata": {
  "kernelspec": {
   "display_name": "Python 3 (ipykernel)",
   "language": "python",
   "name": "python3"
  },
  "language_info": {
   "codemirror_mode": {
    "name": "ipython",
    "version": 3
   },
   "file_extension": ".py",
   "mimetype": "text/x-python",
   "name": "python",
   "nbconvert_exporter": "python",
   "pygments_lexer": "ipython3",
   "version": "3.9.7"
  }
 },
 "nbformat": 4,
 "nbformat_minor": 5
}
