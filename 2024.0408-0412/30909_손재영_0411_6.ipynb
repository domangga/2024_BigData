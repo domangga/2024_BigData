{
 "cells": [
  {
   "cell_type": "markdown",
   "id": "c5f8355b",
   "metadata": {},
   "source": [
    "# 30909_손재영_0411_6"
   ]
  },
  {
   "cell_type": "code",
   "execution_count": null,
   "id": "c6a224b9",
   "metadata": {},
   "outputs": [],
   "source": [
    "# 등금을 구분하는 프로그램\n",
    "# 80점이상이면 A 40이상이며 B 나머지 C등금 출력\n",
    "#0~100 사이 이외의 숫자는 \"잘못된 숫자를 입력했습니다.\"\n",
    "\n"
   ]
  },
  {
   "cell_type": "code",
   "execution_count": 41,
   "id": "2b4eba4b",
   "metadata": {},
   "outputs": [
    {
     "name": "stdout",
     "output_type": "stream",
     "text": [
      "30\n",
      "C\n"
     ]
    }
   ],
   "source": [
    "n=int(input())\n",
    "if n<=100 and n>=80:\n",
    "    print(\"A\")\n",
    "elif n<=79 and n>=40:\n",
    "    print(\"B\")\n",
    "elif n<=39 and n>=0:\n",
    "    print(\"C\")\n",
    "else:\n",
    "    print(\"잘못된 숫자를 입력했습니다\")"
   ]
  },
  {
   "cell_type": "code",
   "execution_count": 40,
   "id": "fb2fe8a7",
   "metadata": {},
   "outputs": [
    {
     "name": "stdout",
     "output_type": "stream",
     "text": [
      "점수 :10\n",
      "C등급\n"
     ]
    }
   ],
   "source": [
    "score = int(input('점수 :'))\n",
    "\n",
    "# 올바른 숫자 범위가 맞는지 틀리는지 구분\n",
    "if score <0 or score >100:\n",
    "    print(f'잘못된 숫자를 입력했습니다')\n",
    "# 80점 이상 A등급 출력\n",
    "elif score >= 80:\n",
    "    print(f\"A등급\")\n",
    "# 40점 이상 B등급 출력\n",
    "\n",
    "elif score >=40 :\n",
    "    print(f'B등급')\n",
    "# 나머지이상 C등급 출력\n",
    "\n",
    "else :\n",
    "    print(f'C등급')"
   ]
  },
  {
   "cell_type": "code",
   "execution_count": 42,
   "id": "cc10b7c1",
   "metadata": {},
   "outputs": [
    {
     "name": "stdout",
     "output_type": "stream",
     "text": [
      "점수 :30\n",
      "C등급\n"
     ]
    }
   ],
   "source": [
    "score = int(input('점수 :'))\n",
    "\n",
    "# 올바른 숫자 범위가 맞는지 틀리는지 구분\n",
    "if score <0 or score >100:\n",
    "    print(f'잘못된 숫자를 입력했습니다')\n",
    "else :# 80점 이상 A등급 출력\n",
    "    if score >= 80:\n",
    "        print(f\"A등급\")\n",
    "# 40점 이상 B등급 출력\n",
    "    elif score >=40 :\n",
    "        print(f'B등급')\n",
    "# 나머지이상 C등급 출력\n",
    "    else :\n",
    "        print(f'C등급')\n"
   ]
  },
  {
   "cell_type": "code",
   "execution_count": 43,
   "id": "599ba193",
   "metadata": {},
   "outputs": [
    {
     "name": "stdout",
     "output_type": "stream",
     "text": [
      "ㅎㅇ\n",
      "ㅎㅇ\n",
      "ㅎㅇ\n",
      "ㅎㅇ\n",
      "ㅎㅇ\n"
     ]
    }
   ],
   "source": [
    "for a in [1,2,3,4,5]:\n",
    "    print('ㅎㅇ')"
   ]
  },
  {
   "cell_type": "code",
   "execution_count": 45,
   "id": "116d9ad2",
   "metadata": {},
   "outputs": [
    {
     "name": "stdout",
     "output_type": "stream",
     "text": [
      "1 을(를) 저장 중입니다.\n",
      "2 을(를) 저장 중입니다.\n",
      "3 을(를) 저장 중입니다.\n",
      "4 을(를) 저장 중입니다.\n",
      "5 을(를) 저장 중입니다.\n"
     ]
    }
   ],
   "source": [
    "for a in [1,2,3,4,5]:\n",
    "    print(a,'을(를) 저장 중입니다.')"
   ]
  },
  {
   "cell_type": "code",
   "execution_count": 49,
   "id": "79dc88e0",
   "metadata": {},
   "outputs": [
    {
     "name": "stdout",
     "output_type": "stream",
     "text": [
      "9 을(를) 저장 중입니다.\n",
      "8 을(를) 저장 중입니다.\n",
      "7 을(를) 저장 중입니다.\n",
      "6 을(를) 저장 중입니다.\n",
      "5 을(를) 저장 중입니다.\n",
      "4 을(를) 저장 중입니다.\n",
      "3 을(를) 저장 중입니다.\n",
      "2 을(를) 저장 중입니다.\n",
      "1 을(를) 저장 중입니다.\n",
      "0 을(를) 저장 중입니다.\n"
     ]
    }
   ],
   "source": [
    "for a in [9,8,7,6,5,4,3,2,1,0]:\n",
    "    print(a,'을(를) 저장 중입니다.')"
   ]
  },
  {
   "cell_type": "code",
   "execution_count": 52,
   "id": "86b414a5",
   "metadata": {
    "scrolled": true
   },
   "outputs": [
    {
     "name": "stdout",
     "output_type": "stream",
     "text": [
      "1 선생님, 다시는 청소를 빼먹지 않겠습니다\n",
      "2 선생님, 다시는 청소를 빼먹지 않겠습니다\n",
      "3 선생님, 다시는 청소를 빼먹지 않겠습니다\n",
      "4 선생님, 다시는 청소를 빼먹지 않겠습니다\n",
      "5 선생님, 다시는 청소를 빼먹지 않겠습니다\n",
      "6 선생님, 다시는 청소를 빼먹지 않겠습니다\n",
      "7 선생님, 다시는 청소를 빼먹지 않겠습니다\n",
      "8 선생님, 다시는 청소를 빼먹지 않겠습니다\n",
      "9 선생님, 다시는 청소를 빼먹지 않겠습니다\n",
      "10 선생님, 다시는 청소를 빼먹지 않겠습니다\n",
      "11 선생님, 다시는 청소를 빼먹지 않겠습니다\n",
      "12 선생님, 다시는 청소를 빼먹지 않겠습니다\n",
      "13 선생님, 다시는 청소를 빼먹지 않겠습니다\n",
      "14 선생님, 다시는 청소를 빼먹지 않겠습니다\n",
      "15 선생님, 다시는 청소를 빼먹지 않겠습니다\n",
      "16 선생님, 다시는 청소를 빼먹지 않겠습니다\n",
      "17 선생님, 다시는 청소를 빼먹지 않겠습니다\n",
      "18 선생님, 다시는 청소를 빼먹지 않겠습니다\n",
      "19 선생님, 다시는 청소를 빼먹지 않겠습니다\n",
      "20 선생님, 다시는 청소를 빼먹지 않겠습니다\n"
     ]
    }
   ],
   "source": [
    "for i in range(1,21):\n",
    "    print(i,\"선생님, 다시는 청소를 빼먹지 않겠습니다\")"
   ]
  },
  {
   "cell_type": "code",
   "execution_count": 54,
   "id": "babc02b9",
   "metadata": {
    "scrolled": true
   },
   "outputs": [
    {
     "name": "stdout",
     "output_type": "stream",
     "text": [
      "1\n",
      "3\n",
      "5\n",
      "7\n",
      "9\n",
      "11\n",
      "13\n",
      "15\n",
      "17\n",
      "19\n"
     ]
    }
   ],
   "source": [
    "for i in range(1,20,2):\n",
    "    print(i)\n"
   ]
  },
  {
   "cell_type": "code",
   "execution_count": 56,
   "id": "bf38facf",
   "metadata": {},
   "outputs": [
    {
     "name": "stdout",
     "output_type": "stream",
     "text": [
      "5050\n"
     ]
    }
   ],
   "source": [
    "result=0\n",
    "\n",
    "for i in range(1,101):\n",
    "    result +=i\n",
    "    \n",
    "print(result)"
   ]
  },
  {
   "cell_type": "code",
   "execution_count": null,
   "id": "61c9dcc8",
   "metadata": {},
   "outputs": [],
   "source": []
  }
 ],
 "metadata": {
  "kernelspec": {
   "display_name": "Python 3 (ipykernel)",
   "language": "python",
   "name": "python3"
  },
  "language_info": {
   "codemirror_mode": {
    "name": "ipython",
    "version": 3
   },
   "file_extension": ".py",
   "mimetype": "text/x-python",
   "name": "python",
   "nbconvert_exporter": "python",
   "pygments_lexer": "ipython3",
   "version": "3.9.7"
  }
 },
 "nbformat": 4,
 "nbformat_minor": 5
}
