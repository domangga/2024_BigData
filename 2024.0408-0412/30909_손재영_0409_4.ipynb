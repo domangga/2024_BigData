{
 "cells": [
  {
   "cell_type": "markdown",
   "id": "021169b5",
   "metadata": {},
   "source": [
    "# 30909_손재영_0409_4"
   ]
  },
  {
   "cell_type": "markdown",
   "id": "45514c1c",
   "metadata": {},
   "source": [
    "## 조건문으로 간단한 프로그램 만들기"
   ]
  },
  {
   "cell_type": "code",
   "execution_count": 7,
   "id": "0b8e47b4",
   "metadata": {},
   "outputs": [
    {
     "name": "stdout",
     "output_type": "stream",
     "text": [
      "몇살임1\n",
      "미성년자 6000원\n"
     ]
    }
   ],
   "source": [
    "# 목욕탕 가면 미성년자는 6000원 성인 15000원\n",
    "# 나이를 입력받아서 구분하는 프로그램을 만들어보자\n",
    "a=int(input(\"몇살임\"))\n",
    "\n",
    "if a>=20:\n",
    "    print(\"성인 15000원\")\n",
    "else:\n",
    "    print(\"미성년자 6000원\")"
   ]
  },
  {
   "cell_type": "code",
   "execution_count": 9,
   "id": "e2e6cd67",
   "metadata": {},
   "outputs": [
    {
     "name": "stdout",
     "output_type": "stream",
     "text": [
      "몇살임10\n",
      "미성년자6000원\n",
      "얼마있음6000\n",
      "들어가\n"
     ]
    }
   ],
   "source": [
    "#나이 구분\n",
    "#금액 구분\n",
    "\n",
    "#1단계\n",
    "\n",
    "age=int(input(\"몇살임\"))\n",
    "\n",
    "if age>=20:\n",
    "    print(\"성인15000원\")\n",
    "    price=15000\n",
    "else:\n",
    "    print(\"미성년자6000원\")\n",
    "    price=6000\n",
    "    \n",
    "    \n",
    "#2단계 투입금액을 입력받아 입장료와 비교하기\n",
    "price_input=int(input(\"얼마있음\"))\n",
    "\n",
    "if price_input <price:\n",
    "    print(f'{price-price_input}원 더내셈')\n",
    "elif price_input == price:\n",
    "    print(\"들어가\")\n",
    "else:\n",
    "    print(f'{price_input-price}원 줌')"
   ]
  },
  {
   "cell_type": "markdown",
   "id": "a7e3a847",
   "metadata": {},
   "source": [
    "```\n",
    "어떤 메뉴가 궁굼하신가요\n",
    "기본라면:3500원\n",
    "떡라면:4000원\n",
    "만두라면:4000원\n",
    "치즈라면:3700원\n",
    "\n",
    "김밥\n",
    "야채김밥:3000원\n",
    "참치김밥:4000원\n",
    "꼬마김밥:2000원\n",
    "```"
   ]
  },
  {
   "cell_type": "code",
   "execution_count": null,
   "id": "7dbe091a",
   "metadata": {},
   "outputs": [],
   "source": [
    "print(\"어떤 메뉴가 궁굼하신가요\")\n",
    "if menu ==\"김밥\":\n",
    "    print('야체김밥:2500원')\n",
    "    print('참치김밥:3500원')   \n",
    "elif menu ==\"라면\":\n",
    "    print('기본라면:3500원')\n",
    "    print('떡라면:4000원')\n",
    "    print('만두라면:4000원')\n",
    "else:\n",
    "    print('올바른 메뉴를 입력해 주세요')\n",
    "    \n"
   ]
  }
 ],
 "metadata": {
  "kernelspec": {
   "display_name": "Python 3 (ipykernel)",
   "language": "python",
   "name": "python3"
  },
  "language_info": {
   "codemirror_mode": {
    "name": "ipython",
    "version": 3
   },
   "file_extension": ".py",
   "mimetype": "text/x-python",
   "name": "python",
   "nbconvert_exporter": "python",
   "pygments_lexer": "ipython3",
   "version": "3.9.7"
  }
 },
 "nbformat": 4,
 "nbformat_minor": 5
}
