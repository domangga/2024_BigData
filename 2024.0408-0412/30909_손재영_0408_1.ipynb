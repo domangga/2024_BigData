{
 "cells": [
  {
   "cell_type": "markdown",
   "id": "a52992b6",
   "metadata": {},
   "source": [
    "# 30909_손재영_0408_1"
   ]
  },
  {
   "cell_type": "markdown",
   "id": "1f1ea1cd",
   "metadata": {},
   "source": [
    "## 선택구조 조건이 하나 일때\n",
    "- if문"
   ]
  },
  {
   "cell_type": "code",
   "execution_count": null,
   "id": "f5d1a107",
   "metadata": {},
   "outputs": [],
   "source": [
    "age=19\n",
    "\n",
    "\n",
    "# 청소년은 주류를 구매할 수 없습니다. 출력"
   ]
  },
  {
   "cell_type": "code",
   "execution_count": 16,
   "id": "b2687954",
   "metadata": {},
   "outputs": [
    {
     "name": "stdout",
     "output_type": "stream",
     "text": [
      "나이가 어떨게 되세요? 20\n",
      "먹으세여\n"
     ]
    }
   ],
   "source": [
    "age=int(input(\"나이가 어떨게 되세요? \"))\n",
    "if age<20:\n",
    "    print(f\"청소년은 주류를 구매할 수 없습니다.\")\n",
    "    print(f\"{20-age}년 뒤에 다시 오세여\")\n",
    "else:\n",
    "    print(\"먹으세여\")"
   ]
  },
  {
   "cell_type": "markdown",
   "id": "e0c730ec",
   "metadata": {},
   "source": [
    "# 50000원 이하면 배송비 2500원이 추가 됩니다."
   ]
  },
  {
   "cell_type": "code",
   "execution_count": 31,
   "id": "c9e302dc",
   "metadata": {},
   "outputs": [
    {
     "name": "stdout",
     "output_type": "stream",
     "text": [
      "구매 금액은:50001\n",
      "배송비 무료압니다\n",
      "최종 결제 금액은 50001입니다.\n"
     ]
    }
   ],
   "source": [
    "price=int(input(\"구매 금액은:\"))\n",
    "if price <=50000:\n",
    "    print(\"배송비 2500원이 추가 됩니다.\")\n",
    "    print(f\"당신의 결제 금액은{price+2500}원 입니다\")\n",
    "else:\n",
    "    print(\"배송비 무료압니다\")\n",
    "    print(f\"최종 결제 금액은 {price}입니다.\")"
   ]
  },
  {
   "cell_type": "code",
   "execution_count": null,
   "id": "68a04cfa",
   "metadata": {},
   "outputs": [],
   "source": [
    "༼ つ ◕_◕ ༽つ₹₣₠₳৳₨₧₥╰（‵□′）╯"
   ]
  },
  {
   "cell_type": "code",
   "execution_count": null,
   "id": "c5eee875",
   "metadata": {},
   "outputs": [],
   "source": []
  },
  {
   "cell_type": "code",
   "execution_count": 35,
   "id": "e5acfa20",
   "metadata": {},
   "outputs": [
    {
     "name": "stdout",
     "output_type": "stream",
     "text": [
      "오늘은 며칠입니다?0409\n",
      "홀수\n"
     ]
    }
   ],
   "source": [
    "date=int(input(\"오늘은 며칠입니다?\"))\n",
    "if date%2==1:\n",
    "    print(\"홀수 차량만 통행 가능합니다\")\n",
    "    print(\"짝수번호 차주는 오늘 대중교통을 이용해 주세요\")\n",
    "else:\n",
    "    print(\"짝수 번호 차량만 통행 가능합니다\") \n",
    "    print(\"홀수번호 차주는 오늘 대중교통을 이용해 주세요\")"
   ]
  }
 ],
 "metadata": {
  "kernelspec": {
   "display_name": "Python 3 (ipykernel)",
   "language": "python",
   "name": "python3"
  },
  "language_info": {
   "codemirror_mode": {
    "name": "ipython",
    "version": 3
   },
   "file_extension": ".py",
   "mimetype": "text/x-python",
   "name": "python",
   "nbconvert_exporter": "python",
   "pygments_lexer": "ipython3",
   "version": "3.9.7"
  }
 },
 "nbformat": 4,
 "nbformat_minor": 5
}
