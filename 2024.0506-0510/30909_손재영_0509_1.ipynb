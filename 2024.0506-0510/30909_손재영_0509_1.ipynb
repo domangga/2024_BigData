{
 "cells": [
  {
   "cell_type": "code",
   "execution_count": 2,
   "id": "3d2f595f",
   "metadata": {},
   "outputs": [
    {
     "name": "stdout",
     "output_type": "stream",
     "text": [
      "영어,뜻 :a\n",
      "영어,뜻 :a\n",
      "영어,뜻 :a\n",
      "영어,뜻 :a\n",
      "영어,뜻 :a\n",
      "영어,뜻 :\n"
     ]
    },
    {
     "data": {
      "text/plain": [
       "{'a': {...}}"
      ]
     },
     "execution_count": 2,
     "metadata": {},
     "output_type": "execute_result"
    }
   ],
   "source": [
    "a={}\n",
    "\n",
    "while True:\n",
    "    b=input('영어,뜻 :')\n",
    "    if b=='':\n",
    "        break\n",
    "        \n",
    "    e=b.split(',')[0]\n",
    "    k=b.split(',')[0]    \n",
    "    \n",
    "    a[e]=a\n",
    "    \n",
    "a"
   ]
  },
  {
   "cell_type": "code",
   "execution_count": 6,
   "id": "aa8e183a",
   "metadata": {},
   "outputs": [
    {
     "name": "stdout",
     "output_type": "stream",
     "text": [
      "물건구매:2000\n",
      "\n",
      "구매:2000\n",
      "할인0%\n",
      "할인금액0.0\n",
      "지불금액2000.0\n"
     ]
    }
   ],
   "source": [
    "p=int(input('물건구매:'))\n",
    "\n",
    "if p>=100000:\n",
    "    dc=10\n",
    "elif p>=50000:\n",
    "    df=7\n",
    "elif p >=10000:\n",
    "    dc=5\n",
    "else:\n",
    "    dc=0\n",
    "    \n",
    "print(f'''\n",
    "구매:{p}\n",
    "할인{dc}%\n",
    "할인금액{p*(dc/100)}\n",
    "지불금액{p-p*(dc/100)}''')"
   ]
  },
  {
   "cell_type": "code",
   "execution_count": 8,
   "id": "1d7903f1",
   "metadata": {},
   "outputs": [
    {
     "name": "stdout",
     "output_type": "stream",
     "text": [
      "예상숫자20\n",
      "Down\n",
      "예상숫자10\n",
      "Up\n",
      "예상숫자15\n",
      "Down\n",
      "예상숫자13\n",
      "정답임\n",
      "4번 만에 맞춤\n"
     ]
    }
   ],
   "source": [
    "import random\n",
    "def guess_number_game(max=5):\n",
    "    cnt=0\n",
    "    num=random.randint(1,100)\n",
    "    \n",
    "    while cnt<max:\n",
    "        cnt+=1\n",
    "        answer=int(input(f'예상숫자'))\n",
    "        if answer == num:\n",
    "            print(f'정답임')\n",
    "            print(f'{cnt}번 만에 맞춤')\n",
    "            return\n",
    "        if answer <num:\n",
    "            print('Up')\n",
    "        else:\n",
    "            print('Down')\n",
    "            \n",
    "    print(f'횟수 초과임 정답은{num}이였음ㅋ')\n",
    "    \n",
    "guess_number_game()"
   ]
  },
  {
   "cell_type": "code",
   "execution_count": 9,
   "id": "4418dd7c",
   "metadata": {},
   "outputs": [
    {
     "name": "stdout",
     "output_type": "stream",
     "text": [
      "id :thwsodud0917\n",
      "pwd :stysjy0411\n",
      "아이디 확인하셈\n",
      "id :thswodud0197\n",
      "pwd :stysjy0411\n",
      "아이디 확인하셈\n",
      "id :thswodud0917\n",
      "pwd :stysjy0411\n"
     ]
    }
   ],
   "source": [
    "id='thswodud0917'\n",
    "pwd='stysjy0411'\n",
    "\n",
    "while True:\n",
    "    input_id=input('id :')\n",
    "    input_pwd = input('pwd :')\n",
    "    \n",
    "    if id== input_id and pwd ==input_pwd:\n",
    "        break\n",
    "    if id!= input_id:\n",
    "        print('아이디 확인하셈')\n",
    "    if pwd!= input_pwd:\n",
    "        print('비밀번호 확인하셈')"
   ]
  }
 ],
 "metadata": {
  "kernelspec": {
   "display_name": "Python 3 (ipykernel)",
   "language": "python",
   "name": "python3"
  },
  "language_info": {
   "codemirror_mode": {
    "name": "ipython",
    "version": 3
   },
   "file_extension": ".py",
   "mimetype": "text/x-python",
   "name": "python",
   "nbconvert_exporter": "python",
   "pygments_lexer": "ipython3",
   "version": "3.9.7"
  }
 },
 "nbformat": 4,
 "nbformat_minor": 5
}
