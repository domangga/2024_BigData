{
 "cells": [
  {
   "cell_type": "code",
   "execution_count": 2,
   "id": "76959e22",
   "metadata": {},
   "outputs": [
    {
     "name": "stdout",
     "output_type": "stream",
     "text": [
      "영어단어,뜻:\n"
     ]
    },
    {
     "data": {
      "text/plain": [
       "{}"
      ]
     },
     "execution_count": 2,
     "metadata": {},
     "output_type": "execute_result"
    }
   ],
   "source": [
    "dict_word={}\n",
    "\n",
    "while True:\n",
    "    input_word = input('영어단어,뜻:')\n",
    "    if input_word=='':\n",
    "        break\n",
    "    eng = input_word.split(',')[0]\n",
    "    kor = input_word.split(',')[1]\n",
    "    \n",
    "    dict_sord[eng]=kor\n",
    "    \n",
    "dict_word"
   ]
  },
  {
   "cell_type": "code",
   "execution_count": null,
   "id": "005dedbf",
   "metadata": {},
   "outputs": [],
   "source": [
    "price = int(input('물건구매가 : '))\n",
    "\n",
    "if price>=100000:\n",
    "    dc=10\n",
    "elif price>=50000:\n",
    "    dc=7\n",
    "elif price >= 10000:\n",
    "    dc=5\n",
    "else:\n",
    "    dc=0\n",
    "print(f'''\n",
    "구매가 : {price}\n",
    "할인율 : {dc}%\n",
    "할인금액 : {price*(dc/100)}\n",
    "지불금액: {price-price*(dc/100)}\n",
    "''')\n"
   ]
  },
  {
   "cell_type": "code",
   "execution_count": null,
   "id": "551f4b2c",
   "metadata": {},
   "outputs": [],
   "source": [
    "num1 = int(input('숫자1 :'))\n",
    "num2 = int(input('숫자2 :'))\n",
    "op = input('연산기호 : ')\n",
    "if op == '+':\n",
    "    print(f'덧셈 : {num1}+{num2}={num1+num2}')\n",
    "elif op == '-':\n",
    "    print(f' 뺄셈: {num1}-{num2}={num1-num2}')   \n",
    "elif op =='*':\n",
    "    print(f'곱셈 : {num1}*{num2}={num1*num2}')\n",
    "elif op == '/':\n",
    "    print(f'나눗셈 : {num1}/{num2}={num1/num2}')    \n",
    "else:\n",
    "    print(f'질못 입력하셨습니다.')"
   ]
  },
  {
   "cell_type": "code",
   "execution_count": null,
   "id": "8bf2fa52",
   "metadata": {},
   "outputs": [],
   "source": [
    "import random\n",
    "def guess_number_game(max_attempts=5):\n",
    "    cnt=0\n",
    "    num = random.randint(1,100)\n",
    "    \n",
    "    while cnt < max_attempts:\n",
    "        cnt+=1\n",
    "        answer = int(input(f'Attempt{cnt}. 예상 숫자를 입력하세요(1-100):'))\n",
    "        if answer == num:\n",
    "            print(f'정답 입니다!')\n",
    "            print(f'{cnt}번 만에 맞추었습니다.')\n",
    "            return\n",
    "        if answer < num:\n",
    "            print('Up')\n",
    "        else:\n",
    "            print('Down')\n",
    "            \n",
    "    print(f'횟수 초과입니다. 정답은{num} 였습니다')\n",
    "    \n",
    "guess_number_game()"
   ]
  },
  {
   "cell_type": "code",
   "execution_count": null,
   "id": "f5d29cda",
   "metadata": {},
   "outputs": [],
   "source": [
    "id='id123'\n",
    "pwd='pwd123'\n",
    "while True:\n",
    "    input_id = input('id : ')\n",
    "    input_pwd = input('pwd : ')\n",
    "    \n",
    "    if id == input_id and pwd == input_pwd:\n",
    "        break\n",
    "    if id != input_id :\n",
    "        print(f'아이디를 확인하세요')\n",
    "    if id != input_pwd :\n",
    "        print(f'비밀번호를 확인하세요')"
   ]
  }
 ],
 "metadata": {
  "kernelspec": {
   "display_name": "Python 3 (ipykernel)",
   "language": "python",
   "name": "python3"
  },
  "language_info": {
   "codemirror_mode": {
    "name": "ipython",
    "version": 3
   },
   "file_extension": ".py",
   "mimetype": "text/x-python",
   "name": "python",
   "nbconvert_exporter": "python",
   "pygments_lexer": "ipython3",
   "version": "3.9.7"
  }
 },
 "nbformat": 4,
 "nbformat_minor": 5
}
