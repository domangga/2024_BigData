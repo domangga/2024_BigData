{
 "cells": [
  {
   "cell_type": "code",
   "execution_count": 1,
   "id": "595b0523",
   "metadata": {},
   "outputs": [
    {
     "name": "stdout",
     "output_type": "stream",
     "text": [
      "영어단어,뜻as,ㅁㄴ\n",
      "영어단어,뜻\n"
     ]
    },
    {
     "data": {
      "text/plain": [
       "{'as': 'ㅁㄴ'}"
      ]
     },
     "execution_count": 1,
     "metadata": {},
     "output_type": "execute_result"
    }
   ],
   "source": [
    "영어뜻출력할거={}\n",
    "\n",
    "while True:\n",
    "    영어랑뜻받는거=input('영어단어,뜻')\n",
    "    if 영어랑뜻받는거=='':\n",
    "        break\n",
    "        \n",
    "    영어=영어랑뜻받는거.split(',')[0]\n",
    "    한글=영어랑뜻받는거.split(',')[1]\n",
    "    \n",
    "    \n",
    "    영어뜻출력할거[영어]=한글\n",
    "        \n",
    "영어뜻출력할거  "
   ]
  },
  {
   "cell_type": "code",
   "execution_count": null,
   "id": "f8af7c1c",
   "metadata": {},
   "outputs": [],
   "source": [
    "가격=int(input('물건구매가 :'))\n",
    "\n",
    "if 가격>=100000:\n",
    "    dc=10\n",
    "elif 가격>=50000:\n",
    "    dc=7\n",
    "elif 가격>=10000:\n",
    "    dc=5\n",
    "else:\n",
    "    dc=0\n",
    "    \n",
    "print(f'''\n",
    "구매가:{가격}\n",
    "할인율:{dc}\n",
    "할인금액{가격*(dc/100)}\n",
    "질불 금액{가격-가격*(dc/100)}\n",
    "''')"
   ]
  },
  {
   "cell_type": "code",
   "execution_count": null,
   "id": "633cd5c8",
   "metadata": {},
   "outputs": [],
   "source": [
    "num1 =int(input('숫자1 :'))\n",
    "num2 =int(input('숫자2 :'))\n",
    "op =input('연산기호 :')\n",
    "if op =='+':\n",
    "    print(f'덧셈: {num1}+{num2}={num1+num2}')\n",
    "elif op =='-':\n",
    "    print(f'뺄셈: {num1}-{num2}={num1-num2}')    \n",
    "elif op =='*':\n",
    "    print(f'곱셈: {num1}*{num2}={num1*num2}')   \n",
    "elif op =='/':\n",
    "    print(f'나눗셈: {num1}/{num2}={num1/num2}') \n",
    "else:\n",
    "    print(f'잘못 이볅하셨습니다.')"
   ]
  },
  {
   "cell_type": "code",
   "execution_count": null,
   "id": "6d57c7fc",
   "metadata": {},
   "outputs": [],
   "source": [
    "import random\n",
    "def guess_number_game(max_attemts=5):\n",
    "    cnt=0\n",
    "    num=random,randint(1,100)\n",
    "    \n",
    "    while cnt< max_attempts:\n",
    "        cnt+=1\n",
    "        answer =int(input(f'예상 숫자 입력1-100'))\n",
    "        if answer ==num:\n",
    "            print(f'정답입니다')\n",
    "            print(f'{cnt}번 만에 맞추었습니다')\n",
    "            return\n",
    "        \n",
    "        if answer <num:\n",
    "            print('Up')\n",
    "        else:\n",
    "            print('Down')\n",
    "            \n",
    "    print(f'횟수 초과입니다. 정답은{num} 였습니다')\n",
    "    \n",
    "guess_number_game()"
   ]
  },
  {
   "cell_type": "code",
   "execution_count": 3,
   "id": "66537f36",
   "metadata": {},
   "outputs": [
    {
     "name": "stdout",
     "output_type": "stream",
     "text": [
      "id :a\n",
      "pwd :a\n",
      "아이디를 확인하세요\n",
      "비밀번호를 확인하세요\n",
      "id :a\n",
      "pwd :a\n",
      "아이디를 확인하세요\n",
      "비밀번호를 확인하세요\n",
      "id :a\n",
      "pwd :a\n",
      "아이디를 확인하세요\n",
      "비밀번호를 확인하세요\n",
      "id :a\n",
      "pwd :a\n",
      "아이디를 확인하세요\n",
      "비밀번호를 확인하세요\n",
      "id :\n",
      "pwd :\n",
      "아이디를 확인하세요\n",
      "비밀번호를 확인하세요\n",
      "id :\n",
      "pwd :\n",
      "아이디를 확인하세요\n",
      "비밀번호를 확인하세요\n",
      "id :\n",
      "pwd :\n",
      "아이디를 확인하세요\n",
      "비밀번호를 확인하세요\n",
      "id :\n",
      "pwd :\n",
      "아이디를 확인하세요\n",
      "비밀번호를 확인하세요\n",
      "id :\n",
      "pwd :\n",
      "아이디를 확인하세요\n",
      "비밀번호를 확인하세요\n",
      "id :id123\n",
      "pwd :pwd123\n"
     ]
    }
   ],
   "source": [
    "id='id123'\n",
    "pwd='pwd123'\n",
    "while True:\n",
    "    input_id =input('id :')\n",
    "    input_pwd =input('pwd :')\n",
    "    \n",
    "    if id==input_id and pwd==input_pwd:\n",
    "        break\n",
    "    if id!= input_id:\n",
    "        print(f'아이디를 확인하세요')\n",
    "    if pwd != input_pwd:\n",
    "        print(f'비밀번호를 확인하세요')"
   ]
  }
 ],
 "metadata": {
  "kernelspec": {
   "display_name": "Python 3 (ipykernel)",
   "language": "python",
   "name": "python3"
  },
  "language_info": {
   "codemirror_mode": {
    "name": "ipython",
    "version": 3
   },
   "file_extension": ".py",
   "mimetype": "text/x-python",
   "name": "python",
   "nbconvert_exporter": "python",
   "pygments_lexer": "ipython3",
   "version": "3.9.7"
  }
 },
 "nbformat": 4,
 "nbformat_minor": 5
}
