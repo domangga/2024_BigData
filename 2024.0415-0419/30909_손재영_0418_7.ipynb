{
 "cells": [
  {
   "cell_type": "markdown",
   "id": "82b84cef",
   "metadata": {},
   "source": [
    "# 30909_손재영_0418_7"
   ]
  },
  {
   "cell_type": "code",
   "execution_count": null,
   "id": "a466698a",
   "metadata": {},
   "outputs": [],
   "source": [
    "money=[]\n",
    "print('월별로 수입액을 입력시켜주세요')\n",
    "for j in range(0,6):\n",
    "    print((j+1),'월 수입액을 입력시켜 주세요')\n",
    "    money.append(int(input('')))\n",
    "    \n",
    "sum=0\n",
    "i=0\n",
    "print('상반기 월벽수입액 입니다.')\n",
    "while i<6:\n",
    "    sum=money[i]+sum\n",
    "    i=i+1\n",
    "avg = sum/6\n",
    "print('상반기 월 수입액의 평균',sum,'만원 입니다')\n",
    "print('상반기 월 수입액의 평균',avg,'만원 입니다')"
   ]
  },
  {
   "cell_type": "code",
   "execution_count": null,
   "id": "83a5d16a",
   "metadata": {},
   "outputs": [],
   "source": [
    "money=[]\n",
    "print('월별로 수입액을 입력시켜주세요')\n",
    "for j in range(0,6):\n",
    "    print((j+1),'월 수입액을 입력시켜 주세요')\n",
    "    money.append(int(input('')))\n",
    "    \n",
    "sum=0\n",
    "i=0\n",
    "print('상반기 월벽수입액 입니다.')\n",
    "while i<6:\n",
    "    sum=money[i]+sum\n",
    "    i=i+1\n",
    "avg = sum/6\n",
    "print('상반기 월 수입액의 평균',sum,'만원 입니다')\n",
    "print('상반기 월 수입액의 평균',avg,'만원 입니다')"
   ]
  },
  {
   "cell_type": "code",
   "execution_count": null,
   "id": "2a3e21f2",
   "metadata": {},
   "outputs": [],
   "source": [
    "import random\n",
    "score=[]\n",
    "for i in range(0,25):\n",
    "    score.append(random.randint(0,100))\n",
    "print('리스트에서 점수가 70점 이상인 번호와 값 출력하기')\n",
    "for s in score:\n",
    "    if s>=70:\n",
    "        print(score.index(s)+1,'번',s)"
   ]
  },
  {
   "cell_type": "code",
   "execution_count": null,
   "id": "a836e1fa",
   "metadata": {},
   "outputs": [],
   "source": [
    "import random\n",
    "score=[]\n",
    "pr i in range(0,25):\n",
    "    score.append(random.randint(0,100))\n",
    "print('리스트에서 점수가 70점 이상인 번호와 값 출력하기')\n",
    "for s in score:\n",
    "    if s>=70:\n",
    "        print(score.index(s)+1,'번',s)"
   ]
  },
  {
   "cell_type": "code",
   "execution_count": null,
   "id": "6694fd24",
   "metadata": {},
   "outputs": [],
   "source": [
    "신분당선=['광교','광교중앙','상현','성복','수지구청','동천','미금','정자','판교','청계산입구','양재시민의숲','양제','강남']\n",
    "팔호선=['모란','수진','신흥','단대오거리','남한산성입구','산성','남위례','복정','장지','무정','가락시장','송파','석촌','잠실','몽촌토성','강동구청','천호','암사']\n",
    "\n",
    "print('지하철'*4)\n",
    "호선=input('몇호선?')\n",
    "for i in range(10):\n",
    "    if 호선=='신분당선':\n",
    "        입력 =input()\n",
    "        if 입력 not in 신분당선:\n",
    "            print(\"땡! 해당 역은\",호선,'이 아닙니다!')\n",
    "            print('벌칙 당첨!!')\n",
    "            break\n",
    "    elif 호선 =='팔호선':\n",
    "        입력=input()\n",
    "        if 입력 not in 팔호선:\n",
    "            print('땡! 해당 역은',호선,'이 아닙니다!')\n",
    "            print('벌칙 당첨!!')\n",
    "            break\n",
    "        "
   ]
  },
  {
   "cell_type": "code",
   "execution_count": null,
   "id": "2fc80835",
   "metadata": {},
   "outputs": [],
   "source": [
    "신분당선=['광교','광교중앙','상현','성복','수지구청','동천','미금','정자','판교','청계산입구','양재시민의숲','양제','강남']\n",
    "팔호선=['모란','수진','신흥','단대오거리','남한산성입구','산성','남위례','복정','장지','무정','가락시장','송파','석촌','잠실','몽촌토성','강동구청','천호','암사']\n",
    "\n",
    "print('지하철'*4)\n",
    "호선=input(\"몇호선?\")\n",
    "for i in range(10):\n",
    "    if 호선=='신분당선':\n",
    "        입력 =input()\n",
    "        if 입력 not in 신분당선:\n",
    "            print(\"땡! 해당역은\" ,호선,'이 아닙니다!')\n",
    "            print('벌칙 당첨!!')\n",
    "            break\n",
    "    elif 호선 ==\"팔호선\":\n",
    "        입력 =input()\n",
    "        if 입력 not in 팔호선:\n",
    "            print(\"땡! 해당역은\" ,호선,'이 아닙니다!')\n",
    "            print('벌칙 당첨!!')\n",
    "            break"
   ]
  }
 ],
 "metadata": {
  "kernelspec": {
   "display_name": "Python 3 (ipykernel)",
   "language": "python",
   "name": "python3"
  },
  "language_info": {
   "codemirror_mode": {
    "name": "ipython",
    "version": 3
   },
   "file_extension": ".py",
   "mimetype": "text/x-python",
   "name": "python",
   "nbconvert_exporter": "python",
   "pygments_lexer": "ipython3",
   "version": "3.9.7"
  }
 },
 "nbformat": 4,
 "nbformat_minor": 5
}
