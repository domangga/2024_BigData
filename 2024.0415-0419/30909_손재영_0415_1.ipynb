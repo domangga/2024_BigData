{
 "cells": [
  {
   "cell_type": "markdown",
   "id": "32e6bdad",
   "metadata": {},
   "source": [
    "# 30909_손재영_0415_1"
   ]
  },
  {
   "cell_type": "code",
   "execution_count": 7,
   "id": "901babec",
   "metadata": {},
   "outputs": [
    {
     "name": "stdout",
     "output_type": "stream",
     "text": [
      "6275\n"
     ]
    }
   ],
   "source": [
    "## 반목문을 이용하여 101 부터 150까지 합을 구하는 프로그램 작성\n",
    "\n",
    "sum=0\n",
    "\n",
    "for i in range(101,151):\n",
    "    sum+=i\n",
    "print(sum)"
   ]
  },
  {
   "cell_type": "code",
   "execution_count": 15,
   "id": "3e454760",
   "metadata": {},
   "outputs": [
    {
     "name": "stdout",
     "output_type": "stream",
     "text": [
      "3628800\n"
     ]
    }
   ],
   "source": [
    "# 1부터 50까지 곱하는 프로그램 작성\n",
    "\n",
    "a=1\n",
    "for i in range(1,11):\n",
    "    a*=i\n",
    "print(a)\n",
    "# 걀과용 변수 만들고 초기화"
   ]
  },
  {
   "cell_type": "code",
   "execution_count": 24,
   "id": "a5f0917a",
   "metadata": {},
   "outputs": [
    {
     "name": "stdout",
     "output_type": "stream",
     "text": [
      "몇 단을 외울까요?9\n",
      "9x1=9\n",
      "9x2=18\n",
      "9x3=27\n",
      "9x4=36\n",
      "9x5=45\n",
      "9x6=54\n",
      "9x7=63\n",
      "9x8=72\n",
      "9x9=81\n"
     ]
    }
   ],
   "source": [
    "#구구단 출력하기\\\n",
    "num =int(input('몇 단을 외울까요?'))\n",
    "for i in range(1,10):\n",
    "    print(f'{num}x{i}={num*i}') "
   ]
  },
  {
   "cell_type": "code",
   "execution_count": 125,
   "id": "4f7c64a8",
   "metadata": {},
   "outputs": [
    {
     "name": "stdout",
     "output_type": "stream",
     "text": [
      "8\n"
     ]
    }
   ],
   "source": [
    "# random 임의의 숫자\n",
    "\n",
    "# 라이브러리 libary\n",
    "import random\n",
    "# 랜덤 범위를 지정한다\n",
    "print(random.randint(1,10))"
   ]
  },
  {
   "cell_type": "code",
   "execution_count": 127,
   "id": "ae2ac316",
   "metadata": {},
   "outputs": [
    {
     "name": "stdout",
     "output_type": "stream",
     "text": [
      "1\n",
      "1\n",
      "1\n",
      "2\n",
      "9\n",
      "10\n",
      "2\n",
      "9\n",
      "4\n",
      "5\n"
     ]
    }
   ],
   "source": [
    "import random\n",
    "\n",
    "for i in range(10):\n",
    "    print(random.randint(0,10))"
   ]
  },
  {
   "cell_type": "code",
   "execution_count": 132,
   "id": "23d46d2e",
   "metadata": {},
   "outputs": [
    {
     "name": "stdout",
     "output_type": "stream",
     "text": [
      "구구단 외자~~구구단 외자~~\n",
      "3x3은?\n",
      "3X3?9\n",
      "6x6은?\n",
      "6X6?36\n",
      "5x2은?\n",
      "5X2?10\n",
      "6x8은?\n",
      "6X8?48\n",
      "4x4은?\n",
      "4X4?16\n",
      "3x2은?\n",
      "3X2?6\n",
      "4x6은?\n",
      "4X6?24\n",
      "6x6은?\n",
      "6X6?36\n",
      "9x1은?\n",
      "9X1?9\n",
      "5x6은?\n",
      "5X6?30\n"
     ]
    }
   ],
   "source": [
    "# 구구단 외우기 게임1\n",
    "import random\n",
    "\n",
    "print('구구단 외자~~'*2)\n",
    "\n",
    "for i in range(10):\n",
    "    a=random.randint(2,9)\n",
    "    b=random.randint(1,9)\n",
    "    print(f'{a}x{b}은?')"
   ]
  },
  {
   "cell_type": "code",
   "execution_count": null,
   "id": "942715bd",
   "metadata": {},
   "outputs": [],
   "source": [
    "#구구단 외우기 게임1\n",
    "import random\n",
    "\n",
    "print('구구단 외자~~'*2)\n",
    "\n",
    "for i in range(10):\n",
    "    a=random.randint(2,9)\n",
    "    b=random.randint(1,9)\n",
    "    question = str(a)+'X'+str(b)+'?'\n",
    "    input(question)\n",
    "\n"
   ]
  },
  {
   "cell_type": "code",
   "execution_count": null,
   "id": "9686dc00",
   "metadata": {},
   "outputs": [
    {
     "name": "stdout",
     "output_type": "stream",
     "text": [
      "구구단 외자~~구구단 외자~~\n",
      "4x6 은 ?24\n",
      "2x1 은 ?2\n",
      "6x5 은 ?2\n",
      "틀렸습니다\n",
      "9x6 은 ?2\n",
      "틀렸습니다\n",
      "8x1 은 ?2\n",
      "틀렸습니다\n",
      "3x5 은 ?2\n",
      "틀렸습니다\n",
      "9x9 은 ?2\n",
      "틀렸습니다\n"
     ]
    }
   ],
   "source": [
    "# 구구단 외우기 게임1\n",
    "import random\n",
    "\n",
    "print('구구단 외자~~'*2)\n",
    "\n",
    "for i in range(10):\n",
    "    a=random.randint(2,9)\n",
    "    b=random.randint(1,9)\n",
    "    question=input(f'{a}x{b} 은 ?')\n",
    "    answer = int(question)\n",
    "    if answer !=a*b :\n",
    "        print(\"틀렸습니다\")"
   ]
  }
 ],
 "metadata": {
  "kernelspec": {
   "display_name": "Python 3 (ipykernel)",
   "language": "python",
   "name": "python3"
  },
  "language_info": {
   "codemirror_mode": {
    "name": "ipython",
    "version": 3
   },
   "file_extension": ".py",
   "mimetype": "text/x-python",
   "name": "python",
   "nbconvert_exporter": "python",
   "pygments_lexer": "ipython3",
   "version": "3.9.7"
  }
 },
 "nbformat": 4,
 "nbformat_minor": 5
}
