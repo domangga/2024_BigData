{
 "cells": [
  {
   "cell_type": "markdown",
   "id": "ab1b36bf",
   "metadata": {},
   "source": [
    "1. 1부터 1000까지 숫자 중에서 2의 배수이거나 3의배수면 더하는 프로그램"
   ]
  },
  {
   "cell_type": "code",
   "execution_count": 3,
   "id": "c9574fd0",
   "metadata": {},
   "outputs": [
    {
     "name": "stdout",
     "output_type": "stream",
     "text": [
      "1부터 1000까지 숫자 중에서 2의 배수이거나 3의배수면 더하는 프로그램\n",
      "334167\n"
     ]
    }
   ],
   "source": [
    "# 출력한다\n",
    "print(\"1부터 1000까지 숫자 중에서 2의 배수이거나 3의배수면 더하는 프로그램\")\n",
    "\n",
    "# 변수를 만들고 최기화 한다.\n",
    "res=0\n",
    "num=1\n",
    "\n",
    "# 언제까지 1부터 1000까지 , 반목분 , while\n",
    "#2의 배수 이거나 3의배수\n",
    "#num % 2 ==0\n",
    "# 이거나 or\n",
    "#3의 배수 num % 3==0\n",
    "\n",
    "while num <=1000:\n",
    "    if num %2==0 or num%3==0:\n",
    "        res+=num\n",
    "    num += 1\n",
    "print(res)"
   ]
  },
  {
   "cell_type": "code",
   "execution_count": 5,
   "id": "4006f9ec",
   "metadata": {},
   "outputs": [
    {
     "name": "stdout",
     "output_type": "stream",
     "text": [
      "1부터 1000까지 숫자 중에서 2의 배수이거나 3의 배수면 더하는 프로그램\n",
      "334167\n"
     ]
    }
   ],
   "source": [
    "print('1부터 1000까지 숫자 중에서 2의 배수이거나 3의 배수면 더하는 프로그램')\n",
    "\n",
    "res=0 #저장한 결과값 초기화\n",
    "num=1 #시작 숫자를 1로 설정\n",
    "\n",
    "while num <=1000: #num(1)이 1000이 될때까지 반목해라\n",
    "    if num %2==0 or num%3==0: #만약 2의 배수 이거나 3의 배수이면 :\n",
    "        res+=num #결과값에 넘을 더해라\n",
    "    num+=1 #넘은 1씩 증가\n",
    "print(res)"
   ]
  },
  {
   "cell_type": "code",
   "execution_count": 6,
   "id": "97714592",
   "metadata": {},
   "outputs": [
    {
     "name": "stdout",
     "output_type": "stream",
     "text": [
      "구구단을 외자! 구구단을 외자!\n",
      "8x4=?\n",
      "32\n",
      "정답!\n",
      "4x6=?\n",
      "24\n",
      "정답!\n",
      "7x7=?\n",
      "49\n",
      "정답!\n",
      "6x7=?\n",
      "42\n",
      "정답!\n",
      "4x3=?\n",
      "12\n",
      "정답!\n",
      "6x3=?\n",
      "18\n",
      "정답!\n",
      "3x2=?\n",
      "5\n",
      "틀렸어요!\n",
      "4x8=?\n",
      "32\n",
      "정답!\n",
      "5x7=?\n",
      "35\n",
      "정답!\n",
      "8x5=?\n",
      "40\n",
      "정답!\n"
     ]
    },
    {
     "ename": "AttributeError",
     "evalue": "'str' object has no attribute 'foramt'",
     "output_type": "error",
     "traceback": [
      "\u001b[1;31m---------------------------------------------------------------------------\u001b[0m",
      "\u001b[1;31mAttributeError\u001b[0m                            Traceback (most recent call last)",
      "\u001b[1;32m~\\AppData\\Local\\Temp/ipykernel_6304/759834514.py\u001b[0m in \u001b[0;36m<module>\u001b[1;34m\u001b[0m\n\u001b[0;32m     14\u001b[0m         \u001b[0mprint\u001b[0m\u001b[1;33m(\u001b[0m\u001b[1;34m'틀렸어요!'\u001b[0m\u001b[1;33m)\u001b[0m\u001b[1;33m\u001b[0m\u001b[1;33m\u001b[0m\u001b[0m\n\u001b[0;32m     15\u001b[0m         \u001b[0mf_cnt\u001b[0m\u001b[1;33m=\u001b[0m\u001b[0mf_cnt\u001b[0m\u001b[1;33m+\u001b[0m\u001b[1;36m1\u001b[0m\u001b[1;33m\u001b[0m\u001b[1;33m\u001b[0m\u001b[0m\n\u001b[1;32m---> 16\u001b[1;33m \u001b[0mprint\u001b[0m\u001b[1;33m(\u001b[0m\u001b[1;34m'맞춘 횟수 : {}, 틀린 횟수:{}'\u001b[0m\u001b[1;33m.\u001b[0m\u001b[0mforamt\u001b[0m\u001b[1;33m(\u001b[0m\u001b[0mt_cnt\u001b[0m\u001b[1;33m,\u001b[0m\u001b[0mf_cnt\u001b[0m\u001b[1;33m)\u001b[0m\u001b[1;33m)\u001b[0m\u001b[1;33m\u001b[0m\u001b[1;33m\u001b[0m\u001b[0m\n\u001b[0m",
      "\u001b[1;31mAttributeError\u001b[0m: 'str' object has no attribute 'foramt'"
     ]
    }
   ],
   "source": [
    "import random #랜덤이라는 함수 불러오기\n",
    "print('구구단을 외자! 구구단을 외자!')\n",
    "#맞은 횟수와 틀린 횟수를 저장할 변수를 초기화합니다\n",
    "t_cnt=0 \n",
    "f_cnt=0\n",
    "# 10 반목하여 구구단 문제를 출제합니다\n",
    "for i in range(10):\n",
    "    #2에서9중에 랜덤한 수를 a라는 변수에 저장\n",
    "    a=random.randint(2,9)\n",
    "    b=random.randint(1,9)\n",
    "    # a와 b에 있는 변수를 포멧으로 딕셔너리에 출력 게임 시작\n",
    "    print('{}x{}=?'.format(a,b))\n",
    "    answer=int(input('')) # 정답 맞추기\n",
    "    if a*b==answer: # 마냑 정답에 쓴 값이 a*b 랑 같으면 t_cnt에 +1 을 한다\n",
    "        print('정답!')\n",
    "        t_cnt=t_cnt+1\n",
    "    else:# 마냑 정답에 쓴 값이 a*b랑 같지 않으면 f_cnt에 +1 을 한다\n",
    "        print('틀렸어요!') \n",
    "        f_cnt=f_cnt+1\n",
    "print('맞춘 횟수 : {}, 틀린 횟수:{}'.format(t_cnt,f_cnt)) # 저장한 횟수를 포멧함수로 출력"
   ]
  }
 ],
 "metadata": {
  "kernelspec": {
   "display_name": "Python 3 (ipykernel)",
   "language": "python",
   "name": "python3"
  },
  "language_info": {
   "codemirror_mode": {
    "name": "ipython",
    "version": 3
   },
   "file_extension": ".py",
   "mimetype": "text/x-python",
   "name": "python",
   "nbconvert_exporter": "python",
   "pygments_lexer": "ipython3",
   "version": "3.9.7"
  }
 },
 "nbformat": 4,
 "nbformat_minor": 5
}
