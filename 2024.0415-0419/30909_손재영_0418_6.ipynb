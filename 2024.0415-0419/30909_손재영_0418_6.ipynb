{
 "cells": [
  {
   "cell_type": "markdown",
   "id": "3200e556",
   "metadata": {},
   "source": [
    "# 30909_손재영_0418_6"
   ]
  },
  {
   "cell_type": "code",
   "execution_count": 2,
   "id": "cc1c8b67",
   "metadata": {},
   "outputs": [
    {
     "name": "stdout",
     "output_type": "stream",
     "text": [
      "월 별로 수입액을 입력시켜 주세요!\n",
      "1 월의 수입액을 입력시켜 주세요\n",
      "1000\n",
      "2 월의 수입액을 입력시켜 주세요\n",
      "2000\n",
      "3 월의 수입액을 입력시켜 주세요\n",
      "3000\n",
      "4 월의 수입액을 입력시켜 주세요\n",
      "4000\n",
      "5 월의 수입액을 입력시켜 주세요\n",
      "5000\n",
      "6 월의 수입액을 입력시켜 주세요\n",
      "6000\n",
      "상반기 월별 수입액 입니다.\n",
      "상반기 월 수입액의 평균은 21000 만원 입니다.\n",
      "상반기 월 수입액의 평균은 3500.0 만원 입니다.\n"
     ]
    }
   ],
   "source": [
    "money=[] \n",
    "print(\"월 별로 수입액을 입력시켜 주세요!\")\n",
    "for j in range(0,6): \n",
    "    print((j+1),'월의 수입액을 입력시켜 주세요')\n",
    "    money.append(int(input(''))) \n",
    "\n",
    "sum=0 \n",
    "i=0\n",
    "print('상반기 월별 수입액 입니다.')\n",
    "while i<6:\n",
    "    sum=money[i]+sum\n",
    "    i=i+1\n",
    "avg =sum/6\n",
    "print('상반기 월 수입액의 평균은',sum,'만원 입니다.')\n",
    "print('상반기 월 수입액의 평균은',avg,'만원 입니다.')"
   ]
  },
  {
   "cell_type": "code",
   "execution_count": null,
   "id": "42a2b568",
   "metadata": {},
   "outputs": [],
   "source": [
    "money=[]# 돈은 받는 변수 값\n",
    "print(\"월별로 수입액을 임력시켜주세요!\")\n",
    "for j in range(0,6): #j를 0~5번 반복해라\n",
    "    print((j+1),'월 수입액을 입력시켜 주세요') # j에 1을 더한후 print 함\n",
    "    money.append(int(input('')))# append 입력받는 값\n",
    "                                # \n",
    "sum=0 #합계를 받는 값\n",
    "i=0\n",
    "print('상반기 월별 수입액 입니다.')\n",
    "while i<6:\n",
    "    sum=money[i]+sum \n",
    "    i=i+1\n",
    "avg = sum/6\n",
    "print('상반기 월수입액의 평균',sum,'만원 입니다')\n",
    "print('상반기 월수입액의 평균',avg,'만원 입니다')"
   ]
  },
  {
   "cell_type": "markdown",
   "id": "5c816bd4",
   "metadata": {},
   "source": [
    "# 예상문제 4: 무작위로 입력된 점수 리스트에서 70점 이상인 번호와 값을 출력하기"
   ]
  },
  {
   "cell_type": "code",
   "execution_count": 25,
   "id": "580a31c6",
   "metadata": {},
   "outputs": [
    {
     "name": "stdout",
     "output_type": "stream",
     "text": [
      "리스트에서 점수가 70점 이상인 번호화 값 출력하기\n",
      "2 번 76\n",
      "3 번 87\n",
      "6 번 84\n",
      "11 번 77\n",
      "14 번 90\n",
      "16 번 100\n",
      "21 번 79\n",
      "23 번 98\n",
      "11 번 77\n"
     ]
    }
   ],
   "source": [
    "import random #랜덤 함수를 불러온다\n",
    "score =[] # 점수를 늘 변수를 만든다\n",
    "for i in range(0,25): #i를 0~24 반목한다\n",
    "    score.append(random.randint(0,100)) #점수에 0~100까지 랜덤으로 출력하게한다\n",
    "print('리스트에서 점수가 70점 이상인 번호화 값 출력하기')\n",
    "for s in score: # \n",
    "    if s>=70 : # 만약 s가 70이상이면 \n",
    "        print(score.index(s)+1,'번',s) #점수와 번호를 출력하게 만든다"
   ]
  },
  {
   "cell_type": "code",
   "execution_count": 26,
   "id": "e095cb6d",
   "metadata": {},
   "outputs": [
    {
     "name": "stdout",
     "output_type": "stream",
     "text": [
      "지하철~♪♬지하철~♪♬지하철~♪♬지하철~♪♬\n",
      "몇호선?팔호선\n",
      "모란\n",
      "신흥\n",
      "ㅁ\n",
      "땡! 해당 역은 팔호선 이 아닙니다!\n",
      "벌칙 당첨!!\n"
     ]
    }
   ],
   "source": [
    "신분당선=['광교','광교중앙','상현','성복','수지구청','동천','미금','정자','판교','청계산입구','양재시민의숲','양제','강남']\n",
    "팔호선=['모란','수진','신흥','단대오거리','남한산성입구','산성','남위례','복정','장지','무정','가락시장','송파','석촌','잠실','몽촌토성','강동구청','천호','암사']\n",
    "\n",
    "print('지하철~♪♬'*4)\n",
    "호선=input('몇호선?')\n",
    "for i in range(10):\n",
    "    if 호선=='신문당선':\n",
    "        입력 =input()\n",
    "        if 입력 not in 신분당선:\n",
    "            print('땡! 해당 역은',호선,'이 아닙니다!')\n",
    "            print('벌칙 당첨!!')\n",
    "            break\n",
    "    elif 호선 =='팔호선':\n",
    "        입력=input()\n",
    "        if 입력 not in 팔호선:\n",
    "            print('땡! 해당 역은',호선,'이 아닙니다!')\n",
    "            print('벌칙 당첨!!')\n",
    "            break"
   ]
  }
 ],
 "metadata": {
  "kernelspec": {
   "display_name": "Python 3 (ipykernel)",
   "language": "python",
   "name": "python3"
  },
  "language_info": {
   "codemirror_mode": {
    "name": "ipython",
    "version": 3
   },
   "file_extension": ".py",
   "mimetype": "text/x-python",
   "name": "python",
   "nbconvert_exporter": "python",
   "pygments_lexer": "ipython3",
   "version": "3.9.7"
  }
 },
 "nbformat": 4,
 "nbformat_minor": 5
}
