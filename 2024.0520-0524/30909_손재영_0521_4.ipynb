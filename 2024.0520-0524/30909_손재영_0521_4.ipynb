{
 "cells": [
  {
   "cell_type": "markdown",
   "id": "fb9ee2db",
   "metadata": {},
   "source": [
    "# 딕셔너리 : 사전\n",
    "    {}를 이용한다"
   ]
  },
  {
   "cell_type": "code",
   "execution_count": 1,
   "id": "a6c656fe",
   "metadata": {},
   "outputs": [
    {
     "name": "stdout",
     "output_type": "stream",
     "text": [
      "{'break': '깨어나다', 'bring': '가져오다', 'brush': '붓', 'brave': '용감한'}\n"
     ]
    }
   ],
   "source": [
    "eng = {'break':'깨어지다','bring':'가져오다','brush':'붓','brave':'용감한'}\n",
    "print(eng)"
   ]
  },
  {
   "cell_type": "code",
   "execution_count": 2,
   "id": "7c7add2a",
   "metadata": {},
   "outputs": [
    {
     "name": "stdout",
     "output_type": "stream",
     "text": [
      "깨어나다\n"
     ]
    }
   ],
   "source": [
    "print(eng['break'])"
   ]
  },
  {
   "cell_type": "code",
   "execution_count": 7,
   "id": "066aab96",
   "metadata": {},
   "outputs": [
    {
     "name": "stdout",
     "output_type": "stream",
     "text": [
      "붓\n"
     ]
    }
   ],
   "source": [
    "print(eng['brush'])"
   ]
  },
  {
   "cell_type": "code",
   "execution_count": 8,
   "id": "b5dfc12c",
   "metadata": {},
   "outputs": [
    {
     "name": "stdout",
     "output_type": "stream",
     "text": [
      "어떤 메뉴를 드시겠습니까?김밥\n",
      "2500 원 입니다.\n"
     ]
    }
   ],
   "source": [
    "menu={'김밥':2500,'참치김밥':3500,'라면':3000,'치즈라면':4000}\n",
    "eat = input('어떤 메뉴를 드시겠습니까?')\n",
    "print(menu[eat],'원 입니다.')"
   ]
  },
  {
   "cell_type": "code",
   "execution_count": 12,
   "id": "51bdb707",
   "metadata": {},
   "outputs": [],
   "source": [
    "menu['라면']=3500\n",
    "menu['치즈라면']=4500"
   ]
  },
  {
   "cell_type": "code",
   "execution_count": 13,
   "id": "41229f3e",
   "metadata": {},
   "outputs": [
    {
     "name": "stdout",
     "output_type": "stream",
     "text": [
      "{'김밥': 2500, '참치김밥': 3500, '라면': 3500, '치즈라면': 4500}\n"
     ]
    }
   ],
   "source": [
    "print(menu)"
   ]
  },
  {
   "cell_type": "code",
   "execution_count": 14,
   "id": "a2d27cf9",
   "metadata": {},
   "outputs": [
    {
     "name": "stdout",
     "output_type": "stream",
     "text": [
      "{'김밥': 3000, '참치김밥': 3500, '라면': 3500, '치즈라면': 4500}\n"
     ]
    }
   ],
   "source": [
    "menu['김밥']+=500\n",
    "print(menu)"
   ]
  },
  {
   "cell_type": "code",
   "execution_count": 22,
   "id": "b3d144d1",
   "metadata": {},
   "outputs": [
    {
     "name": "stdout",
     "output_type": "stream",
     "text": [
      "{'김밥': 3000, '참치김밥': 3500, '라면': 3500, '치즈라면': 4500, '돈가스': 6000}\n"
     ]
    }
   ],
   "source": [
    "print(menu)"
   ]
  },
  {
   "cell_type": "code",
   "execution_count": 19,
   "id": "690446a4",
   "metadata": {},
   "outputs": [
    {
     "name": "stdout",
     "output_type": "stream",
     "text": [
      "뭐 넣을거임돈가스\n",
      "각격은 얼바임6000\n",
      "{'김밥': 3000, '참치김밥': 3500, '라면': 3500, '치즈라면': 4500, None: None, '돈가스': 6000}\n"
     ]
    }
   ],
   "source": [
    "a=input('뭐 넣을거임')\n",
    "b=int(input('각격은 얼바임'))\n",
    "      \n",
    "menu[a]=b\n",
    "print(menu)"
   ]
  },
  {
   "cell_type": "code",
   "execution_count": 23,
   "id": "f6f2fe76",
   "metadata": {},
   "outputs": [
    {
     "name": "stdout",
     "output_type": "stream",
     "text": [
      "뭐 뺄거임돈가스\n",
      "{'김밥': 3000, '참치김밥': 3500, '라면': 3500, '치즈라면': 4500}\n"
     ]
    }
   ],
   "source": [
    "name=input('뭐 뺄거임')\n",
    "\n",
    "del menu[name]\n",
    "print(menu)"
   ]
  },
  {
   "cell_type": "code",
   "execution_count": 24,
   "id": "6e135b23",
   "metadata": {},
   "outputs": [
    {
     "name": "stdout",
     "output_type": "stream",
     "text": [
      "dict_keys(['김밥', '참치김밥', '라면', '치즈라면'])\n"
     ]
    }
   ],
   "source": [
    "print(menu.keys())"
   ]
  },
  {
   "cell_type": "code",
   "execution_count": 25,
   "id": "6df366a7",
   "metadata": {},
   "outputs": [
    {
     "name": "stdout",
     "output_type": "stream",
     "text": [
      "dict_values([3000, 3500, 3500, 4500])\n"
     ]
    }
   ],
   "source": [
    "print(menu.values())"
   ]
  },
  {
   "cell_type": "code",
   "execution_count": 26,
   "id": "8d859e87",
   "metadata": {},
   "outputs": [
    {
     "name": "stdout",
     "output_type": "stream",
     "text": [
      "['김밥', '참치김밥', '라면', '치즈라면']\n"
     ]
    }
   ],
   "source": [
    "print(list(menu.keys()))"
   ]
  },
  {
   "cell_type": "code",
   "execution_count": 28,
   "id": "40dba929",
   "metadata": {},
   "outputs": [
    {
     "name": "stdout",
     "output_type": "stream",
     "text": [
      "dict_items([('김밥', 3000), ('참치김밥', 3500), ('라면', 3500), ('치즈라면', 4500)])\n"
     ]
    }
   ],
   "source": [
    "#key+value=items\n",
    "\n",
    "print(menu.items())"
   ]
  },
  {
   "cell_type": "code",
   "execution_count": 33,
   "id": "6c50ff47",
   "metadata": {},
   "outputs": [
    {
     "name": "stdout",
     "output_type": "stream",
     "text": [
      "['치즈라면', '참치김밥', '라면', '김밥']\n",
      "[('김밥', 3000), ('라면', 3500), ('참치김밥', 3500), ('치즈라면', 4500)]\n"
     ]
    }
   ],
   "source": [
    "print(sorted(menu.keys(),reverse =True))\n",
    "print(sorted(menu.items()))"
   ]
  },
  {
   "cell_type": "code",
   "execution_count": 36,
   "id": "7f01f6f8",
   "metadata": {},
   "outputs": [
    {
     "name": "stdout",
     "output_type": "stream",
     "text": [
      "[('치즈라면', 4500), ('참치김밥', 3500), ('라면', 3500), ('김밥', 3000)]\n"
     ]
    }
   ],
   "source": [
    "import operator\n",
    "print(sorted(menu.items(),key=operator.itemgetter(1),reverse=True))"
   ]
  },
  {
   "cell_type": "code",
   "execution_count": 37,
   "id": "c2fa96ea",
   "metadata": {
    "scrolled": true
   },
   "outputs": [
    {
     "name": "stdout",
     "output_type": "stream",
     "text": [
      "[('치즈라면', 4500), ('참치김밥', 3500)]\n"
     ]
    }
   ],
   "source": [
    "print(sorted(menu.items(),key=operator.itemgetter(1),reverse=True)[:2])"
   ]
  },
  {
   "cell_type": "markdown",
   "id": "6784f476",
   "metadata": {},
   "source": [
    "# 조거문으로 딕셔너리 다루기"
   ]
  },
  {
   "cell_type": "code",
   "execution_count": 39,
   "id": "1419cc8f",
   "metadata": {},
   "outputs": [
    {
     "name": "stdout",
     "output_type": "stream",
     "text": [
      "{'도윤': 43, '하윤': 82, '시우': 76, '지유': 61, '주원': 94}\n",
      "어떤 학생의 점수가 궁금하신가요?도윤\n",
      "43 입니다\n"
     ]
    }
   ],
   "source": [
    "midterm ={'도윤':43,'하윤':82,'시우':76,'지유':61,'주원':94}\n",
    "print(midterm)\n",
    "student=input('어떤 학생의 점수가 궁금하신가요?')\n",
    "\n",
    "if student in midterm.keys():\n",
    "    print(midterm[student],'입니다')\n",
    "else:\n",
    "    print('해당 학생이 없습니다.')"
   ]
  },
  {
   "cell_type": "code",
   "execution_count": 40,
   "id": "bf9425e5",
   "metadata": {},
   "outputs": [
    {
     "name": "stdout",
     "output_type": "stream",
     "text": [
      "하윤 82\n",
      "시우 76\n",
      "주원 94\n"
     ]
    }
   ],
   "source": [
    "for k,v in midterm.items():\n",
    "    if v >=70:\n",
    "        print(k,v)"
   ]
  }
 ],
 "metadata": {
  "kernelspec": {
   "display_name": "Python 3 (ipykernel)",
   "language": "python",
   "name": "python3"
  },
  "language_info": {
   "codemirror_mode": {
    "name": "ipython",
    "version": 3
   },
   "file_extension": ".py",
   "mimetype": "text/x-python",
   "name": "python",
   "nbconvert_exporter": "python",
   "pygments_lexer": "ipython3",
   "version": "3.9.7"
  }
 },
 "nbformat": 4,
 "nbformat_minor": 5
}
