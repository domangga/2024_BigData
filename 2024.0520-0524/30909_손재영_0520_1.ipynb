{
 "cells": [
  {
   "cell_type": "code",
   "execution_count": 13,
   "id": "bc274b59",
   "metadata": {},
   "outputs": [],
   "source": [
    "olympic=[[1,'미국',46,37,38,121],[2,'영국',27,23,17,67],[3,'중국',26,18,26,70],[4,'러시아',19,18,19,56],[5,'독일',17,18,15,42],[6,'일본',12,8,21,41],[7,'프랑스',10,18,14,42],[8,'대한민국',9,3,9,21]]"
   ]
  },
  {
   "cell_type": "code",
   "execution_count": 23,
   "id": "3771fb55",
   "metadata": {},
   "outputs": [
    {
     "data": {
      "text/plain": [
       "'미국'"
      ]
     },
     "execution_count": 23,
     "metadata": {},
     "output_type": "execute_result"
    }
   ],
   "source": [
    "olympic[0][1]"
   ]
  },
  {
   "cell_type": "code",
   "execution_count": 38,
   "id": "aecf36db",
   "metadata": {},
   "outputs": [
    {
     "ename": "NameError",
     "evalue": "name 'olymipc' is not defined",
     "output_type": "error",
     "traceback": [
      "\u001b[1;31m---------------------------------------------------------------------------\u001b[0m",
      "\u001b[1;31mNameError\u001b[0m                                 Traceback (most recent call last)",
      "\u001b[1;32m~\\AppData\\Local\\Temp/ipykernel_2276/3889151775.py\u001b[0m in \u001b[0;36m<module>\u001b[1;34m\u001b[0m\n\u001b[1;32m----> 1\u001b[1;33m \u001b[0mprint\u001b[0m\u001b[1;33m(\u001b[0m\u001b[0molympic\u001b[0m\u001b[1;33m[\u001b[0m\u001b[1;36m0\u001b[0m\u001b[1;33m]\u001b[0m\u001b[1;33m[\u001b[0m\u001b[1;36m1\u001b[0m\u001b[1;33m]\u001b[0m\u001b[1;33m,\u001b[0m\u001b[1;34m'금매달 개수:'\u001b[0m\u001b[1;33m,\u001b[0m\u001b[0molymipc\u001b[0m\u001b[1;33m[\u001b[0m\u001b[1;36m0\u001b[0m\u001b[1;33m]\u001b[0m\u001b[1;33m[\u001b[0m\u001b[1;36m2\u001b[0m\u001b[1;33m]\u001b[0m\u001b[1;33m)\u001b[0m\u001b[1;33m\u001b[0m\u001b[1;33m\u001b[0m\u001b[0m\n\u001b[0m\u001b[0;32m      2\u001b[0m \u001b[0mprint\u001b[0m\u001b[1;33m(\u001b[0m\u001b[0molympic\u001b[0m\u001b[1;33m[\u001b[0m\u001b[1;36m4\u001b[0m\u001b[1;33m]\u001b[0m\u001b[1;33m[\u001b[0m\u001b[1;36m1\u001b[0m\u001b[1;33m]\u001b[0m\u001b[1;33m,\u001b[0m\u001b[1;34m'금매달 개수:'\u001b[0m\u001b[1;33m,\u001b[0m\u001b[0molymipc\u001b[0m\u001b[1;33m[\u001b[0m\u001b[1;36m4\u001b[0m\u001b[1;33m]\u001b[0m\u001b[1;33m[\u001b[0m\u001b[1;36m2\u001b[0m\u001b[1;33m]\u001b[0m\u001b[1;33m)\u001b[0m\u001b[1;33m\u001b[0m\u001b[1;33m\u001b[0m\u001b[0m\n",
      "\u001b[1;31mNameError\u001b[0m: name 'olymipc' is not defined"
     ]
    }
   ],
   "source": [
    "print(olympic[0][1],'금매달 개수:',olymipc[0][2])\n",
    "print(olympic[4][1],'금매달 개수:',olymipc[4][2])"
   ]
  },
  {
   "cell_type": "code",
   "execution_count": 19,
   "id": "a4ada237",
   "metadata": {},
   "outputs": [
    {
     "name": "stdout",
     "output_type": "stream",
     "text": [
      "금메달보다 은메달이 더 많은 나라\n",
      "독일\n",
      "프랑스\n"
     ]
    }
   ],
   "source": [
    "print('금메달보다 은메달이 더 많은 나라')\n",
    "for row in olympic:\n",
    "    if row[2]<row[3]:\n",
    "        print(row[1])"
   ]
  },
  {
   "cell_type": "code",
   "execution_count": 21,
   "id": "ee5c4ebb",
   "metadata": {},
   "outputs": [
    {
     "name": "stdout",
     "output_type": "stream",
     "text": [
      "금메달보다 동메달이 더많은 나라\n",
      "일본\n",
      "프랑스\n"
     ]
    }
   ],
   "source": [
    "#금메달보다 동메달이 더많은 나라 출력\n",
    "print('금메달보다 동메달이 더많은 나라')\n",
    "for row in olympic:\n",
    "    if row[4]>row[2]:\n",
    "        print(row[1])"
   ]
  },
  {
   "cell_type": "code",
   "execution_count": 34,
   "id": "6258973a",
   "metadata": {},
   "outputs": [
    {
     "name": "stdout",
     "output_type": "stream",
     "text": [
      "금메달 전체의 개수는?\n",
      "166\n"
     ]
    }
   ],
   "source": [
    "#금메달 전체 개수를 출력하기\n",
    "print('금메달 전체의 개수는?')\n",
    "a=0\n",
    "for row in olympic:\n",
    "    a+=row[2]\n",
    "print(a)    "
   ]
  },
  {
   "cell_type": "code",
   "execution_count": 37,
   "id": "2d9db671",
   "metadata": {},
   "outputs": [
    {
     "name": "stdout",
     "output_type": "stream",
     "text": [
      "['역사탑험대', '파이썬', '학습법', '영단어', '여행에세이', '삼국지']\n",
      "[23229, 18607, 15518, 19592, 20738, 19805]\n"
     ]
    }
   ],
   "source": [
    "import random\n",
    "\n",
    "book_name=[\"역사탑험대\",\"파이썬\",\"학습법\",\"영단어\",\"여행에세이\",\"삼국지\"]\n",
    "book_price=[]\n",
    "for i in range(len(book_name)):\n",
    "    book_price.append(random.randint(15000,25000))\n",
    "    \n",
    "print(book_name)\n",
    "print(book_price)"
   ]
  },
  {
   "cell_type": "code",
   "execution_count": 43,
   "id": "fb87040a",
   "metadata": {},
   "outputs": [
    {
     "name": "stdout",
     "output_type": "stream",
     "text": [
      "가장 비싼 책은?\n",
      "역사탑험대\n"
     ]
    }
   ],
   "source": [
    "#가장 비싼 책은?\n",
    "print('가장 비싼 책은?')\n",
    "expensive=max(book_price)\n",
    "idx=book_price.index(expensive)\n",
    "print(book_name[idx])"
   ]
  }
 ],
 "metadata": {
  "kernelspec": {
   "display_name": "Python 3 (ipykernel)",
   "language": "python",
   "name": "python3"
  },
  "language_info": {
   "codemirror_mode": {
    "name": "ipython",
    "version": 3
   },
   "file_extension": ".py",
   "mimetype": "text/x-python",
   "name": "python",
   "nbconvert_exporter": "python",
   "pygments_lexer": "ipython3",
   "version": "3.9.7"
  }
 },
 "nbformat": 4,
 "nbformat_minor": 5
}
